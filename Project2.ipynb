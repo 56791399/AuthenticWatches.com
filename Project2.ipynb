{
 "cells": [
  {
   "cell_type": "markdown",
   "metadata": {},
   "source": [
    "This is a study on Authenticwathes.com (https://www.authenticwatches.com/rolex.html). The data is webscrapped from its Rolex section and the purpose is to see how much discount on average authenticwatches is giving on its Rolex inventory, which shows how in demand is the brand and whether the brand has been diluted due to discount online, to see what are the most popular/in demand watches and what are the least in demand watches, and to approximate lost profit margin for every watch being sold online."
   ]
  },
  {
   "cell_type": "markdown",
   "metadata": {},
   "source": [
    "# Rolex On AuthenticWatches.com\n",
    "\n",
    "<p><a name=\"DS\"></a></p>\n",
    "### Online watch market business model:\n",
    "\n",
    "- Watches can usually be purchased from an AD (authorized dealer) or a boutique store (operated by the brand/manufacturer itself (5th ave))\n",
    "\n",
    "- Online \"grey\" watch market like AW can sell at lower prices mainly for three reason:\n",
    "    1. AD can't sell all the models so they sell in bundles to AW at a discount \n",
    "    2. Manufacturer over-produced so they sell at a discount to AW\n",
    "    3. Difference in exchange rate"
   ]
  },
  {
   "cell_type": "code",
   "execution_count": null,
   "metadata": {},
   "outputs": [],
   "source": [
    "import pandas as pd\n",
    "import numpy as np\n",
    "from matplotlib import pyplot as plt\n",
    "import re\n",
    "plt.style.use('ggplot')\n",
    "import seaborn as sns"
   ]
  },
  {
   "cell_type": "code",
   "execution_count": 304,
   "metadata": {},
   "outputs": [],
   "source": [
    "#read data\n",
    "df = pd.read_csv(\"watches.csv\")"
   ]
  },
  {
   "cell_type": "code",
   "execution_count": 305,
   "metadata": {},
   "outputs": [
    {
     "data": {
      "text/html": [
       "<div>\n",
       "<style scoped>\n",
       "    .dataframe tbody tr th:only-of-type {\n",
       "        vertical-align: middle;\n",
       "    }\n",
       "\n",
       "    .dataframe tbody tr th {\n",
       "        vertical-align: top;\n",
       "    }\n",
       "\n",
       "    .dataframe thead th {\n",
       "        text-align: right;\n",
       "    }\n",
       "</style>\n",
       "<table border=\"1\" class=\"dataframe\">\n",
       "  <thead>\n",
       "    <tr style=\"text-align: right;\">\n",
       "      <th></th>\n",
       "      <th>availability</th>\n",
       "      <th>condition</th>\n",
       "      <th>image</th>\n",
       "      <th>item_number</th>\n",
       "      <th>price</th>\n",
       "      <th>product</th>\n",
       "      <th>retail_price</th>\n",
       "      <th>warranty</th>\n",
       "    </tr>\n",
       "  </thead>\n",
       "  <tbody>\n",
       "    <tr>\n",
       "      <th>0</th>\n",
       "      <td>Usually ships within 6 months</td>\n",
       "      <td>Store Display Model</td>\n",
       "      <td>https://sep.yimg.com/ay/movadobaby/rolex-deepsea-126660-40.jpg</td>\n",
       "      <td>126660-BLK</td>\n",
       "      <td>$15,500.00</td>\n",
       "      <td>Rolex Deepsea 126660</td>\n",
       "      <td>NaN</td>\n",
       "      <td>6 Years (Included),Silver: + 3 Years $95 Sale(+75), Gold:Lifetime $295 Sale(+245),Platinum:Lifetime w/Ultrasonic $395 Sale(+295)</td>\n",
       "    </tr>\n",
       "    <tr>\n",
       "      <th>1</th>\n",
       "      <td>Usually ships within 4 weeks</td>\n",
       "      <td>New - Never Worn</td>\n",
       "      <td>https://sep.yimg.com/ay/movadobaby/rolex-oyster-perpetual-yacht-master-169628-324.jpg</td>\n",
       "      <td>169628-GRY</td>\n",
       "      <td>$21,150.00</td>\n",
       "      <td>Rolex Yacht-Master 29 169628</td>\n",
       "      <td>$23,500.00</td>\n",
       "      <td>6 Years (Included),Silver: + 3 Years $95 Sale(+75), Gold:Lifetime $295 Sale(+245),Platinum:Lifetime w/Ultrasonic $395 Sale(+295)</td>\n",
       "    </tr>\n",
       "    <tr>\n",
       "      <th>2</th>\n",
       "      <td>Usually ships within 6 months</td>\n",
       "      <td>Store Display Model</td>\n",
       "      <td>https://sep.yimg.com/ay/movadobaby/rolex-oyster-perpetual-yacht-master-16623-291.jpg</td>\n",
       "      <td>16623-BLU</td>\n",
       "      <td>$11,700.00</td>\n",
       "      <td>Rolex Yacht-Master 40 16623</td>\n",
       "      <td>$12,600.00</td>\n",
       "      <td>6 Years (Included),Silver: + 3 Years $95 Sale(+75),Gold:Lifetime $295 Sale(+245),Platinum:Lifetime w/Ultrasonic $395 Sale(+295)</td>\n",
       "    </tr>\n",
       "    <tr>\n",
       "      <th>3</th>\n",
       "      <td>Usually ships within 6 months</td>\n",
       "      <td>New - Never Worn</td>\n",
       "      <td>https://sep.yimg.com/ay/movadobaby/rolex-gmt-master-ii-126710-22.jpg</td>\n",
       "      <td>126710BLRO</td>\n",
       "      <td>$24,995.00</td>\n",
       "      <td>Rolex GMT-Master II 126710BLRO</td>\n",
       "      <td>NaN</td>\n",
       "      <td>6 Years (Included),Silver: + 3 Years $95 Sale(+75), Gold:Lifetime $295 Sale(+245),Platinum:Lifetime w/Ultrasonic $395 Sale(+295)</td>\n",
       "    </tr>\n",
       "    <tr>\n",
       "      <th>4</th>\n",
       "      <td>Usually ships within 4 weeks</td>\n",
       "      <td>New - Never Worn</td>\n",
       "      <td>https://s.yimg.com/aah/movadobaby/rolex-gmt-master-ii-116719blro-31.jpg</td>\n",
       "      <td>116719BLRO</td>\n",
       "      <td>$34,995.00</td>\n",
       "      <td>Rolex GMT-Master II 116719BLRO</td>\n",
       "      <td>$36,750.00</td>\n",
       "      <td>6 Years (Included),Silver: + 3 Years $95 Sale(+49), Gold:Lifetime $295 Best Value(+150),Platinum:Lifetime w/Ultrasonic $395 SALE(+225)</td>\n",
       "    </tr>\n",
       "  </tbody>\n",
       "</table>\n",
       "</div>"
      ],
      "text/plain": [
       "                    availability            condition  \\\n",
       "0  Usually ships within 6 months  Store Display Model   \n",
       "1  Usually ships within 4 weeks   New - Never Worn      \n",
       "2  Usually ships within 6 months  Store Display Model   \n",
       "3  Usually ships within 6 months  New - Never Worn      \n",
       "4  Usually ships within 4 weeks   New - Never Worn      \n",
       "\n",
       "                                                                                   image  \\\n",
       "0  https://sep.yimg.com/ay/movadobaby/rolex-deepsea-126660-40.jpg                          \n",
       "1  https://sep.yimg.com/ay/movadobaby/rolex-oyster-perpetual-yacht-master-169628-324.jpg   \n",
       "2  https://sep.yimg.com/ay/movadobaby/rolex-oyster-perpetual-yacht-master-16623-291.jpg    \n",
       "3  https://sep.yimg.com/ay/movadobaby/rolex-gmt-master-ii-126710-22.jpg                    \n",
       "4  https://s.yimg.com/aah/movadobaby/rolex-gmt-master-ii-116719blro-31.jpg                 \n",
       "\n",
       "  item_number       price                         product retail_price  \\\n",
       "0  126660-BLK  $15,500.00  Rolex Deepsea 126660            NaN           \n",
       "1  169628-GRY  $21,150.00  Rolex Yacht-Master 29 169628    $23,500.00    \n",
       "2  16623-BLU   $11,700.00  Rolex Yacht-Master 40 16623     $12,600.00    \n",
       "3  126710BLRO  $24,995.00  Rolex GMT-Master II 126710BLRO  NaN           \n",
       "4  116719BLRO  $34,995.00  Rolex GMT-Master II 116719BLRO  $36,750.00    \n",
       "\n",
       "                                                                                                                                 warranty  \n",
       "0  6 Years (Included),Silver: + 3 Years $95 Sale(+75), Gold:Lifetime $295 Sale(+245),Platinum:Lifetime w/Ultrasonic $395 Sale(+295)        \n",
       "1  6 Years (Included),Silver: + 3 Years $95 Sale(+75), Gold:Lifetime $295 Sale(+245),Platinum:Lifetime w/Ultrasonic $395 Sale(+295)        \n",
       "2  6 Years (Included),Silver: + 3 Years $95 Sale(+75),Gold:Lifetime $295 Sale(+245),Platinum:Lifetime w/Ultrasonic $395 Sale(+295)         \n",
       "3  6 Years (Included),Silver: + 3 Years $95 Sale(+75), Gold:Lifetime $295 Sale(+245),Platinum:Lifetime w/Ultrasonic $395 Sale(+295)        \n",
       "4  6 Years (Included),Silver: + 3 Years $95 Sale(+49), Gold:Lifetime $295 Best Value(+150),Platinum:Lifetime w/Ultrasonic $395 SALE(+225)  "
      ]
     },
     "execution_count": 305,
     "metadata": {},
     "output_type": "execute_result"
    }
   ],
   "source": [
    "df.head()"
   ]
  },
  {
   "cell_type": "code",
   "execution_count": 111,
   "metadata": {},
   "outputs": [
    {
     "data": {
      "text/plain": [
       "(2843, 8)"
      ]
     },
     "execution_count": 111,
     "metadata": {},
     "output_type": "execute_result"
    }
   ],
   "source": [
    "df.shape"
   ]
  },
  {
   "cell_type": "markdown",
   "metadata": {},
   "source": [
    "Number of unique watches (excluding color difference)"
   ]
  },
  {
   "cell_type": "code",
   "execution_count": 307,
   "metadata": {},
   "outputs": [
    {
     "data": {
      "text/plain": [
       "838"
      ]
     },
     "execution_count": 307,
     "metadata": {},
     "output_type": "execute_result"
    }
   ],
   "source": [
    "df[\"product\"].nunique()"
   ]
  },
  {
   "cell_type": "code",
   "execution_count": 308,
   "metadata": {
    "scrolled": false
   },
   "outputs": [],
   "source": [
    "df=df[df[\"product\"].str.contains('Link')==False] #remove watch link from the dataset\n",
    "df=df[df[\"product\"].str.contains('Strap')==False] #remove watch strap from the dataset"
   ]
  },
  {
   "cell_type": "code",
   "execution_count": 309,
   "metadata": {},
   "outputs": [
    {
     "data": {
      "text/plain": [
       "(2835, 8)"
      ]
     },
     "execution_count": 309,
     "metadata": {},
     "output_type": "execute_result"
    }
   ],
   "source": [
    "df.shape #removed 8 observations"
   ]
  },
  {
   "cell_type": "code",
   "execution_count": 310,
   "metadata": {
    "scrolled": true
   },
   "outputs": [
    {
     "data": {
      "text/plain": [
       "Rolex Datejust 36 116203                                                        71\n",
       "Rolex Datejust 36 116233                                                        70\n",
       "Rolex Lady-Datejust 26 179173                                                   69\n",
       "Rolex Datejust 36 116234                                                        67\n",
       "Rolex Lady-Datejust 26 179163                                                   64\n",
       "Rolex Day-Date 36 118238                                                        52\n",
       "Rolex Datejust 36 116200                                                        51\n",
       "Rolex Lady-Datejust 26 179174                                                   49\n",
       "Rolex Day-Date 36 118208                                                        49\n",
       "Rolex Datejust 31 178384                                                        46\n",
       "Rolex Datejust 36 116244                                                        44\n",
       "Rolex Datejust 36 116243                                                        43\n",
       "Rolex Datejust 31 178344                                                        42\n",
       "Rolex Day-Date 36 118388                                                        41\n",
       "Rolex Datejust 36 116201                                                        40\n",
       "Rolex Lady-Datejust 26 179179                                                   40\n",
       "Rolex Day-Date 36 118239                                                        38\n",
       "Rolex Lady-Datejust 26 179171                                                   36\n",
       "Rolex Datejust 36 116231                                                        35\n",
       "Rolex Day-Date 36 118389                                                        31\n",
       "Rolex Datejust 31 178343                                                        30\n",
       "Rolex Datejust 31 178383                                                        28\n",
       "Rolex Lady-Datejust 26 179161                                                   28\n",
       "Rolex Lady-Datejust 28 279138RBR                                                27\n",
       "Rolex Day-Date 36 118235                                                        26\n",
       "Rolex Lady-Datejust 26 179160                                                   25\n",
       "Rolex Lady-Datejust 28 279163                                                   24\n",
       "Rolex Lady-Datejust 28 279383RBR                                                24\n",
       "Rolex Lady-Datejust 28 279165                                                   24\n",
       "Rolex Lady-Datejust 28 279173                                                   23\n",
       "Rolex Lady-Datejust 28 279135RBR                                                22\n",
       "Rolex Lady-Datejust 28 279384RBR                                                22\n",
       "Rolex Lady-Datejust 28 279174                                                   22\n",
       "Rolex Lady-Datejust 28 279171                                                   22\n",
       "Rolex Lady-Datejust 26 179159                                                   22\n",
       "Rolex Day-Date 36 118205                                                        21\n",
       "Rolex Datejust 36 116238                                                        21\n",
       "Rolex Lady-Datejust 28 279161                                                   21\n",
       "Rolex Day-Date 36 118209                                                        20\n",
       "Rolex Lady-Datejust 28 279381RBR                                                20\n",
       "Rolex Day-Date 36 118206                                                        19\n",
       "Rolex Datejust 41 126334                                                        19\n",
       "Rolex Day-Date 36 118348                                                        17\n",
       "Rolex Oyster Perpetual 26 176200                                                16\n",
       "Rolex Datejust 41 126333                                                        16\n",
       "Rolex Oyster Perpetual 26 176234                                                15\n",
       "Rolex Lady-Datejust 28 279160                                                   14\n",
       "Rolex Oyster Perpetual 31 177234                                                14\n",
       "Rolex Lady-Datejust 26 179178                                                   14\n",
       "Rolex Day-Date 41 218206                                                        14\n",
       "Rolex Oyster Perpetual Date 34 115234                                           14\n",
       "Rolex Oyster Perpetual 31 177200                                                13\n",
       "Rolex Day-Date 36 118346                                                        13\n",
       "Rolex Lady-Datejust 26 179239                                                   13\n",
       "Rolex Lady-Datejust 26 179238                                                   13\n",
       "Rolex Lady-Datejust 26 179158                                                   12\n",
       "Rolex Oyster Perpetual Air-King 114234                                          12\n",
       "Rolex Datejust 41 126303                                                        12\n",
       "Rolex Lady-Datejust 28 279136RBR                                                12\n",
       "Rolex Lady-Datejust 26 179138                                                   11\n",
       "Rolex Oyster Perpetual 36 116000                                                10\n",
       "Rolex Oyster Perpetual 31 177210                                                10\n",
       "Rolex Datejust 41 126300                                                        10\n",
       "Rolex Day-Date 41 218239                                                        10\n",
       "Rolex Day-Date 41 218238                                                        10\n",
       "Rolex Lady-Datejust 26 179383                                                   10\n",
       "Rolex Day-Date Special Edition 18948                                            9 \n",
       "Rolex Oyster Perpetual 36 116034                                                9 \n",
       "Rolex Datejust II 41 116334                                                     9 \n",
       "Rolex Day-Date 41 218235                                                        9 \n",
       "Rolex Oyster Perpetual Date 34 115200                                           9 \n",
       "Rolex Yacht-Master 40 16623                                                     8 \n",
       "Rolex Datejust 41 126331                                                        8 \n",
       "Rolex Datejust 41 126301                                                        8 \n",
       "Rolex Day-Date 40 228398TBR                                                     8 \n",
       "Rolex Day-Date 36 118135                                                        8 \n",
       "Rolex Oyster Perpetual Air-King 114200                                          8 \n",
       "Rolex Day-Date 40 228348RBR                                                     8 \n",
       "Rolex Day-Date 36 118338                                                        8 \n",
       "Rolex Datejust II 41 116333                                                     8 \n",
       "Rolex Oyster Perpetual Date 34 115210                                           8 \n",
       "Rolex Day-Date 41 218349                                                        7 \n",
       "Rolex Day-Date 40 228206                                                        7 \n",
       "Rolex Day-Date 41 218348                                                        7 \n",
       "Rolex Datejust II 41 116300                                                     7 \n",
       "Rolex Lady-Datejust 26 179384                                                   7 \n",
       "Rolex Day-Date 40 228235                                                        7 \n",
       "Rolex Day-Date 40 228238                                                        7 \n",
       "Rolex Day-Date 40 228239                                                        7 \n",
       "Rolex Lady-Datejust 26 179313                                                   7 \n",
       "Rolex Lady-Datejust 26 179136                                                   6 \n",
       "Rolex Datejust 36 116261                                                        6 \n",
       "Rolex Oyster Perpetual 34 114200                                                6 \n",
       "Rolex Day-Date 36 118339                                                        5 \n",
       "Rolex Yacht-Master 35 168623                                                    5 \n",
       "Rolex Datejust 36 116263                                                        5 \n",
       "Rolex Datejust 36 116139                                                        5 \n",
       "Rolex Yacht-Master 29 169623                                                    5 \n",
       "Rolex Yacht-Master 29 169628                                                    5 \n",
       "Rolex Datejust 36 116185                                                        4 \n",
       "Rolex Datejust 36 126303                                                        4 \n",
       "Rolex Submariner Date 16618                                                     4 \n",
       "Rolex Submariner Date 116618                                                    4 \n",
       "Rolex Day-Date Special Edition 18946                                            4 \n",
       "Rolex GMT-Master II 116758                                                      4 \n",
       "Rolex Day-Date 36 118296                                                        4 \n",
       "Rolex Day-Date 40 228349RBR                                                     3 \n",
       "Rolex Datejust 36 116138                                                        3 \n",
       "Rolex GMT-Master II 116759                                                      3 \n",
       "Rolex Datejust 36 116189                                                        3 \n",
       "Rolex Lady-Datejust 26 179166                                                   3 \n",
       "Rolex Oyster Perpetual 39 114300                                                3 \n",
       "Rolex Sky-Dweller 326934                                                        3 \n",
       "Rolex Yacht-Master 40 116622                                                    3 \n",
       "Rolex Datejust 36 116285BBR                                                     3 \n",
       "Rolex Sky-Dweller 326935                                                        2 \n",
       "Rolex Datejust 31 Silver Dial Steel Watch 178240                                2 \n",
       "Rolex Lady-Datejust 26 179175                                                   2 \n",
       "Rolex Sky-Dweller 326135                                                        2 \n",
       "Rolex Explorer 214270                                                           2 \n",
       "Rolex Milgauss 116400GV                                                         2 \n",
       "Rolex Day-Date 36 118139                                                        2 \n",
       "Rolex Yacht-Master 35 168628                                                    2 \n",
       "Rolex Datejust 31 Fluted Bezel Women's Watch 178271                             2 \n",
       "Rolex Lady-Datejust 26 179296                                                   2 \n",
       "Rolex GMT-Master II 116718                                                      2 \n",
       "Rolex Day-Date 40 228396TBR                                                     2 \n",
       "Rolex Deepsea 126660                                                            2 \n",
       "Rolex Yacht-Master 40 116621                                                    2 \n",
       "Rolex Datejust 31 Champagne Dial Diamond Watch 178158                           2 \n",
       "Rolex Sky-Dweller 326939                                                        2 \n",
       "Rolex Datejust 31 Mother of Pearl Dial Watch 178271                             2 \n",
       "Rolex Submariner Date 16610                                                     2 \n",
       "Rolex Datejust 31 Automatic Stainless Steel & Gold Watch 178274                 2 \n",
       "Rolex Datejust 31 Pink Floral Dial Watch 178341                                 2 \n",
       "Rolex Datejust 31 Champagne Diamond Dial Watch 178273                           2 \n",
       "Rolex Sky-Dweller 326938                                                        2 \n",
       "Rolex Datejust 31 Black Diamond Dial Watch 178271                               2 \n",
       "Rolex Sky-Dweller 326138                                                        2 \n",
       "Rolex Datejust 31 Black Mother of Pearl Diamond Watch 178158                    2 \n",
       "Rolex Milgauss 116400                                                           2 \n",
       "Rolex Datejust 36 126231                                                        2 \n",
       "Rolex Day-Date 36 118138                                                        2 \n",
       "Rolex Submariner Date 16613                                                     2 \n",
       "Rolex Explorer II 216570                                                        2 \n",
       "Rolex Explorer II 16570                                                         2 \n",
       "Rolex Datejust 31 Stainless Steel Blue Dial Watch 178240                        2 \n",
       "Rolex Sky-Dweller 326139                                                        2 \n",
       "Rolex Datejust 31 Jubilee Bracelet Watch 178243                                 2 \n",
       "Rolex Submariner Date 116613                                                    2 \n",
       "Rolex Day-Date 36 118398                                                        2 \n",
       "Rolex Datejust 31 Mother of Pearl Gold Watch 178288                             1 \n",
       "Rolex Lady-Datejust 26 Grey Dial Women's Watch 179163                           1 \n",
       "Rolex Cellini Cellisima 6673/9                                                  1 \n",
       "Rolex Cosmograph Daytona Gray Dial Men's Watch 116509                           1 \n",
       "Rolex Datejust 31 Silver Dial Oyster Bracelet Steel & Gold Watch 178341         1 \n",
       "Rolex Datejust 31 18k Rose Gold Watch 178245                                    1 \n",
       "Rolex Cosmograph Daytona Gold & Steel Watch 116523                              1 \n",
       "Rolex Cosmograph Daytona Mother of Pearl Dial Men's Watch 116523                1 \n",
       "Rolex Datejust 36 116199                                                        1 \n",
       "Rolex Submariner Date Green Dial Men's Watch 116610LV                           1 \n",
       "Rolex Datejust 31 Solid 18k Everose Gold Watch 178245                           1 \n",
       "Rolex Datejust 31 18k Rose Gold & Oystersteel Watch 178271                      1 \n",
       "Rolex Datejust 31 Pink Diamond Dial Watch 178274                                1 \n",
       "Rolex Datejust 31 Black Dial Diamond Watch 178159                               1 \n",
       "Rolex Cosmograph Daytona Mother of Pearl Dial Men's Watch 116509                1 \n",
       "Rolex Cosmograph Daytona Ice Blue Dial Men's Watch 116506                       1 \n",
       "Rolex Cellini Quartz 6621/8                                                     1 \n",
       "Rolex Lady-Datejust 26 Pearl Women's Watch 179384                               1 \n",
       "Rolex Datejust 31 Champagne Dial Gold Watch 178278                              1 \n",
       "Rolex Cosmograph Daytona Champagne Diamond Dial Watch 116523                    1 \n",
       "Rolex Datejust 31 Floral Motif Dial Watch 178240                                1 \n",
       "Rolex Datejust 31 White Dial Diamond Watch 178159                               1 \n",
       "Rolex Datejust 36116263                                                         1 \n",
       "Rolex Datejust 31 Rose Gold & Steel Silver Dial Watch 178271                    1 \n",
       "Rolex Datejust 31 Pink Roman Numeral Oyster Bracelet Watch 178274               1 \n",
       "Rolex Datejust 31 Diamond 18k Gold Watch 178158                                 1 \n",
       "Rolex Datejust 31 178271                                                        1 \n",
       "Rolex Datejust 31 Yellow Gold Fluted Bezel Watch 178273                         1 \n",
       "Rolex Datejust 31 Blue Dial Oyster Bracelet Watch 178243                        1 \n",
       "Rolex Datejust 31 Oyster Bracelet Silver Jubilee Diamond Watch 178313           1 \n",
       "Rolex Cosmograph Daytona Mother of Pearl Men's Watch 116508                     1 \n",
       "Rolex Cellini Time Black Dial Men's Watch 50505                                 1 \n",
       "Rolex Datejust 31 Diamond Bezel Watch 178158                                    1 \n",
       "Rolex Datejust 31 White Dial Diamond Women's Watch 178158                       1 \n",
       "Rolex Cosmograph Daytona Men's Watch 116518LN                                   1 \n",
       "Rolex Datejust 31 Mother of Pearl Diamond Gold Women's Watch 178288             1 \n",
       "Rolex Datejust 31 White Roman Numeral Jubilee Bracelet Watch 178341             1 \n",
       "Rolex Cosmograph Daytona Men's Mother of Pearl Dial Watch116518                 1 \n",
       "Rolex Sea-Dweller 4000 126600                                                   1 \n",
       "Rolex Cosmograph Daytona 116515                                                 1 \n",
       "Rolex Datejust 31 Pink Jubilee Design Dial Women's Watch 178245                 1 \n",
       "Rolex Lady-Datejust 26 Silver Women's Watch 179160                              1 \n",
       "Rolex Datejust 31 Champagne Roman Numeral Dial Watch 178243                     1 \n",
       "Rolex Datejust 31 Mother of Pearl Diamond Jubilee Bracelet Watch 178313         1 \n",
       "Rolex Datejust 31 Pink Dial Oyster Bracelet Watch 178341                        1 \n",
       "Rolex Datejust 36 Women's Watch 116233                                          1 \n",
       "Rolex Datejust 31 Pink Floral Motif Women's Watch 178271                        1 \n",
       "Rolex Lady-Datejust 26 Women's Mop Watch 179174                                 1 \n",
       "Rolex Datejust 31 Ladies Automatic Watch 178274                                 1 \n",
       "Rolex Lady-Datejust 179138                                                      1 \n",
       "Rolex Datejust 31 Solid 18K Yellow Gold & Steel Women's Watch 178313            1 \n",
       "Rolex Cosmograph Daytona Champagne Dial Watch 116518                            1 \n",
       "Rolex Datejust 31 White Roman Numeral Dial Watch 178273                         1 \n",
       "Rolex Datejust 31 Solid Gold Watch 178248                                       1 \n",
       "Rolex Datejust 31 Brown Chocolate Dial Watch 178271                             1 \n",
       "Rolex Cosmograph Daytona Chocolate Dial Men's Watch 116515LN                    1 \n",
       "Rolex Datejust 31 Solid Gold Women's Watch 178288                               1 \n",
       "Rolex Datejust 31 178273                                                        1 \n",
       "Rolex Datejust 31 Stainless Steel & Gold Jubilee Bracelet Watch 178274          1 \n",
       "Rolex Datejust 31 Blue Dial Women's Watch 178158                                1 \n",
       "Rolex Datejust 31 Champagne Floral Dial Watch 178158                            1 \n",
       "Rolex Lady-Datejust 26 Women's Watch 179163                                     1 \n",
       "Rolex Datejust 31 Pink Floral Motif Dial Watch 178241                           1 \n",
       "Rolex Datejust 31 Blue Roman Numeral Dial Watch 178274                          1 \n",
       "Rolex Cosmograph Daytona White Dial Men's Watch 116503                          1 \n",
       "Rolex Datejust 31 Silver Dial Watch 178158                                      1 \n",
       "Rolex Datejust 31 Pink Floral Design Dial Watch 178245                          1 \n",
       "Rolex Datejust 31 Mother of Pearl Diamond Dial Watch 178273                     1 \n",
       "Rolex Cellini Cellinium  5241/6                                                 1 \n",
       "Rolex Cellini Cestello 6311/9                                                   1 \n",
       "Rolex Datejust 31 178341                                                        1 \n",
       "Rolex Datejust 31 Silver Jubilee Dial Diamond Watch 178159                      1 \n",
       "Rolex Datejust 31 Blue Dial Women's Watch 178273                                1 \n",
       "Rolex Yacht-Master II 116680                                                    1 \n",
       "Rolex Datejust 36  116231                                                       1 \n",
       "Rolex Datejust 31 Luxury Stainless Steel & White Gold Bezel Watch 178274        1 \n",
       "Rolex Deepsea D-Blue Dial 116660                                                1 \n",
       "Rolex Lady-Datejust 26 Women's Pearl Watch 179174                               1 \n",
       "Rolex Lady-Datejust 26 Women's Watch 179174                                     1 \n",
       "Rolex Datejust 31 Automatic Solid Gold Ladies Watch 178288                      1 \n",
       "Rolex Cellini Date 50515                                                        1 \n",
       "Rolex Datejust 36 Women's Blue Dial Watch 116244                                1 \n",
       "Rolex Datejust 31 Diamond 178159                                                1 \n",
       "Rolex Datejust 31 Yellow Gold Watch 178278                                      1 \n",
       "Rolex Cellini Quartz 6621/8S                                                    1 \n",
       "Rolex Datejust 31 Luxury Watch 178243                                           1 \n",
       "Rolex Datejust 31 Black Diamond Jubilee Bracelet Watch 178341                   1 \n",
       "Rolex Datejust 31 Women's Watch 178274                                          1 \n",
       "Rolex Datejust 31 Gold Women's Watch 178248                                     1 \n",
       "Rolex Cosmograph Daytona Black Dial Watch 116519                                1 \n",
       "Rolex Datejust 31 White Roman Numeral Oyster Bracelet Watch 178274              1 \n",
       "Rolex Datejust 31 Black Mother of Pearl Diamond Dial Watch 178274               1 \n",
       "Rolex Datejust 31 Silver Jubilee Diamond Gold Watch 178278                      1 \n",
       "Rolex Cosmograph Daytona 40MM Men's Watch 116523                                1 \n",
       "Rolex Cellini Danaos 6229/9                                                     1 \n",
       "Rolex Datejust 31 Silver Diamond Oyster Bracelet Watch 178274                   1 \n",
       "Rolex Submariner Date 116619LB                                                  1 \n",
       "Rolex Datejust 31 Solid 18k Gold Watch 178238                                   1 \n",
       "Rolex Lady-Datejust 26 Gold Women's Watch 179173                                1 \n",
       "Rolex Cosmograph Daytona Diamond Dial Watch 116528                              1 \n",
       "Rolex Datejust 31 Blue Dial Yellow Gold Watch 178288                            1 \n",
       "Rolex Lady-Datejust 179178                                                      1 \n",
       "Rolex Cellini Classic 6111/8                                                    1 \n",
       "Rolex Cosmograph Daytona Brown Dial Men's Watch 116505                          1 \n",
       "Rolex GMT-Master II 116713                                                      1 \n",
       "Rolex Yacht-Master II 116688                                                    1 \n",
       "Rolex GMT-Master II 116719BLRO                                                  1 \n",
       "Rolex Datejust 31 Mother of Pearl Dial Watch 178158                             1 \n",
       "Rolex Lady-Datejust 26 Women's 179174                                           1 \n",
       "Rolex Cellini Quartz 6631/8                                                     1 \n",
       "Rolex Datejust 31 Purple Dial Two Tone Watch 178271                             1 \n",
       "Rolex Cosmograph Daytona Oyster Bracelet Men's Watch 116508                     1 \n",
       "Rolex Datejust 31 Sunbeam Black Dial Watch 178240                               1 \n",
       "Rolex Day-Date 36 Gold Watch 118238                                             1 \n",
       "Rolex Datejust 31 Domed Bezel Watch 178243                                      1 \n",
       "Rolex Datejust 31 Automatic Women's Watch 178273                                1 \n",
       "Rolex Datejust 31 Elegant Women's Watch 178271                                  1 \n",
       "Rolex Datejust 31 Silver Dial Two Tone Watch 178273                             1 \n",
       "Rolex Datejust 31 Silver Dial Gold Women's Watch 178158                         1 \n",
       "Rolex Pearlmaster 80319                                                         1 \n",
       "Rolex Cosmograph Daytona 116509                                                 1 \n",
       "Rolex Datejust 36 126203                                                        1 \n",
       "Rolex Datejust 31 18k Gold Women's Watch 178158                                 1 \n",
       "Rolex Datejust 36 116285                                                        1 \n",
       "Rolex Datejust 31 Fluted Bezel Watch 178273                                     1 \n",
       "Rolex Datejust 31 Oystersteel Watch 178240                                      1 \n",
       "Rolex Datejust 31 Black Roman Numeral Dial Watch 178271                         1 \n",
       "Rolex Datejust 31 Oyster Bracelet Watch 178273                                  1 \n",
       "Rolex Cosmograph Daytona 116505                                                 1 \n",
       "Rolex Datejust 31 Ladies Watch 178274                                           1 \n",
       "Rolex Lady-Datejust 26 Black Dial Women's Watch 179173                          1 \n",
       "Rolex Datejust 36 Women's Pearl Watch 116243                                    1 \n",
       "Rolex Lady-Datejust 26 Black Dial Women's Watch 179160                          1 \n",
       "Rolex Datejust 31 Blue Dial Diamond Women's Watch 178238                        1 \n",
       "Rolex Cosmograph Daytona Rose Gold Men's Watch 116515LN                         1 \n",
       "Rolex Lady-Datejust 26 Black Dial Women's Watch 179174                          1 \n",
       "Rolex Datejust 31 Black Mother of Pearl Dial Watch 178245                       1 \n",
       "Rolex Lady-Datejust 26 Oystersteel Women's Watch 179160                         1 \n",
       "Rolex Cellini Danaos Black Dial Women's Watch 4233/9                            1 \n",
       "Rolex Cosmograph Daytona Diamond Watch 116528                                   1 \n",
       "Rolex Cosmograph Daytona Black Mother of Pearl Dial Watch 116509                1 \n",
       "Rolex Datejust 31 Pink Diamond Jubilee Women's Watch 178341                     1 \n",
       "Rolex Datejust 36 Women's Silver Dial 116243                                    1 \n",
       "Rolex Datejust 31 Elegant Automatic Watch 178274                                1 \n",
       "Rolex Submariner Date 116610                                                    1 \n",
       "Rolex Cellini Date Women's Watch 50515                                          1 \n",
       "Rolex Datejust 31 Concentric Circle Black Dial Watch 178240                     1 \n",
       "Rolex Cosmograph Daytona White Gold Men's Watch 116509                          1 \n",
       "Rolex Datejust 31 Black Mother of Pearl Dial Watch 178271                       1 \n",
       "Rolex Datejust 31 Silver Jubilee Dial Watch 178273                              1 \n",
       "Rolex Cosmograph Daytona White Diamond Dial Men's Watch 116523                  1 \n",
       "Rolex Cosmograph Daytona Gold & Steel Watch 116503                              1 \n",
       "Rolex Cellini Danaos 6229/8                                                     1 \n",
       "Rolex Datejust 31 Black Dial Women's Watch 178274                               1 \n",
       "Rolex Sky-Dweller Champagne Dial Men's Watch 326933                             1 \n",
       "Rolex Datejust 31 Ladies Watch 178243                                           1 \n",
       "Rolex Cellini Quartz 6110/8                                                     1 \n",
       "Rolex Datejust 31 Blue Diamond Women's Watch 178158                             1 \n",
       "Rolex Datejust 36 116188                                                        1 \n",
       "Rolex Datejust 31 White Dial Two Tone Watch 178243                              1 \n",
       "Rolex Cellini Time 50505                                                        1 \n",
       "Rolex Pearlmaster 80299                                                         1 \n",
       "Rolex Datejust 31 Champagne Jubilee Diamond Dial Women's Watch 178158           1 \n",
       "Rolex Datejust 31 Black Mother of Pearl Diamond Dial Watch 178271               1 \n",
       "Rolex Cosmograph Daytona White Gold Watch 116599                                1 \n",
       "Rolex GMT-Master II 126715CHNR                                                  1 \n",
       "Rolex Datejust 31 Unisex Watch 178271                                           1 \n",
       "Rolex Datejust 31 Silver Dial Luxury Watch 178271                               1 \n",
       "Rolex GMT-Master II 116710                                                      1 \n",
       "Rolex Datejust 31 Black Roman Numeral Jubilee Bracelet Watch 178341             1 \n",
       "Rolex Datejust 31 Blue Diamond Oyster Bracelet Watch 178274                     1 \n",
       "Rolex Cosmograph Daytona 116515LN                                               1 \n",
       "Rolex Datejust 36 Women's Diamond Watch 116244                                  1 \n",
       "Rolex Datejust 31 Everose Gold & Steel Watch 178241                             1 \n",
       "Rolex Datejust 31 Domed Bezel Watch 178240                                      1 \n",
       "Rolex Datejust 31 Gold & Steel Watch 178273                                     1 \n",
       "Rolex Cosmograph Daytona Solid Gold Watch 116528                                1 \n",
       "Rolex Datejust 31 Black Roman Numeral Oyster Bracelet Watch 178271              1 \n",
       "Rolex Lady-Datejust 26 Pink Women's Watch 179174                                1 \n",
       "Rolex Cellini Prince 54425                                                      1 \n",
       "Rolex Datejust 31 Stainless Steel & White Gold Women's Watch 178274             1 \n",
       "Rolex Deepsea 116660                                                            1 \n",
       "Rolex Datejust 31 Champagne Diamond Dial Watch 178241                           1 \n",
       "Rolex Datejust 31 Pink Roman Numeral Dial Watch 178240                          1 \n",
       "Rolex Datejust 31 Rhodium Floral Motif Dial Watch 178274                        1 \n",
       "Rolex Datejust 31 Yellow Gold & Oystersteel Watch 178243                        1 \n",
       "Rolex Datejust 31 Solid 18k Rose Gold & Steel Watch 178241                      1 \n",
       "Rolex Datejust 31 Silver Dial Diamond Women's Watch 178158                      1 \n",
       "Rolex Lady-Datejust 26 Watch for Women 179163                                   1 \n",
       "Rolex Datejust 31 Champagne Dial Women's Watch 178243                           1 \n",
       "Rolex Datejust 31 Stainless Steel & Rose Gold Watch 178341                      1 \n",
       "Rolex Datejust 31 Black Mother of Pearl Dial Watch 178158                       1 \n",
       "Rolex Datejust 31 178278                                                        1 \n",
       "Rolex Datejust 31 President Bracelet Watch 178159                               1 \n",
       "Rolex Datejust 31 Black Dial Diamond Watch 178158                               1 \n",
       "Rolex Datejust 31 Solid Gold Watch 178278                                       1 \n",
       "Rolex Cosmograph Daytona 116523                                                 1 \n",
       "Rolex Datejust 31 Ladies Automatic Watch 178273                                 1 \n",
       "Rolex Cosmograph Daytona 116589                                                 1 \n",
       "Rolex Datejust 31 Mother of Pearl Dial Women's Watch 178243                     1 \n",
       "Rolex Datejust 31 Blue Dial Gold Women's Watch 178248                           1 \n",
       "Rolex Sea-Dweller 4000 116600                                                   1 \n",
       "Rolex Datejust 31 Diamond Women's Watch 178238                                  1 \n",
       "Rolex Cellini Quartz 6621/9                                                     1 \n",
       "Rolex Datejust 31 Blue Roman Numeral Oyster Bracelet Watch 178274               1 \n",
       "Rolex Datejust 31 Pink Diamond Oyster Bracelet Watch 178274                     1 \n",
       "Rolex Cosmograph Daytona Yellow Gold Men's Watch 116528                         1 \n",
       "Rolex Datejust 31 White Dial Women's Watch 178240                               1 \n",
       "Rolex Day-Date Special Edition 18956                                            1 \n",
       "Rolex Cellini Cellinium 5240/6                                                  1 \n",
       "Rolex Cosmograph Daytona Brown Dial Men's Watch 116515                          1 \n",
       "Rolex Cosmograph Daytona Black Dial Watch 116528                                1 \n",
       "Rolex Datejust 31 Stainless Steel & Rose Gold Ladies Watch 178341               1 \n",
       "Rolex Datejust 31 White Roman Numeral Dial Watch 178271                         1 \n",
       "Rolex Datejust 31 Blue Diamond Dial Women's Watch 178159                        1 \n",
       "Rolex Cellini Quartz 6622/8                                                     1 \n",
       "Rolex Lady-Datejust 28 Women's Watch 279173                                     1 \n",
       "Rolex Datejust 31 Purple Dial Diamond Watch 178159                              1 \n",
       "Rolex Datejust 31 Black Diamond Dial Watch 178245                               1 \n",
       "Rolex Yacht-Master 37 268655                                                    1 \n",
       "Rolex Yacht-Master 37 268621                                                    1 \n",
       "Rolex Datejust 31 Two Tone Women's Watch 178273                                 1 \n",
       "Rolex Datejust 31 Mother of Pearl Dial Rose Gold & Steel Watch 178341           1 \n",
       "Rolex Datejust 31 White Dial Rose Gold Watch 178245                             1 \n",
       "Rolex Cellini Dual Time Black Dial Men's Watch 50525                            1 \n",
       "Rolex Datejust 31 Black Mother of Pearl Dial Diamond Watch 178159               1 \n",
       "Rolex GMT-Master II 116719                                                      1 \n",
       "Rolex Cellini 5330/8                                                            1 \n",
       "Rolex Datejust 31 Blue Dial Solid Gold Watch 178278                             1 \n",
       "Rolex Sky-Dweller Black Dial Men's Watch 326933                                 1 \n",
       "Rolex Datejust 36 Diamond Watch 116244                                          1 \n",
       "Rolex Cellini Dual Time Silver Dial Men's Watch 50529                           1 \n",
       "Rolex Datejust 31 Pink Jubilee Dial Watch 178271                                1 \n",
       "Rolex Cellini Cellissima 6691/9                                                 1 \n",
       "Rolex Datejust 31 Green Dial Yellow Gold Watch 178158                           1 \n",
       "Rolex Datejust 31 Automatic Ladies Watch 178341                                 1 \n",
       "Rolex Datejust 31 Blue Dial Women's Watch 178243                                1 \n",
       "Rolex Datejust 31 Black Dial Gold Watch 178245                                  1 \n",
       "Rolex Datejust 31 Blue Dial Automatic Gold Watch 178278                         1 \n",
       "Rolex Datejust 31 Black Dial Two Tone Watch 178243                              1 \n",
       "Rolex Datejust 31 Silver Dial Gold Women's Watch 178248                         1 \n",
       "Rolex Datejust 31 Silver Roman Numeral Jubilee Bracelet Watch 178274            1 \n",
       "Rolex Datejust 31 Yellow Gold & Steel Watch 178273                              1 \n",
       "Rolex Cellini Prince 54419                                                      1 \n",
       "Rolex Datejust 31 178274                                                        1 \n",
       "Rolex Datejust 31 Silver Roman Numeral Oyster Bracelet Watch 178313             1 \n",
       "Rolex Datejust 31 Champagne Dial Watch 178243                                   1 \n",
       "Rolex Cosmograph Daytona Men's Watch 116505                                     1 \n",
       "Rolex Lady-Datejust 26 Women's Watch 179171                                     1 \n",
       "Rolex Datejust 31 Steel Black Dial Watch 178240                                 1 \n",
       "Rolex Cosmograph Daytona White Gold Watch 116589                                1 \n",
       "Rolex Datejust 31 Silver Dial Diamond Watch 178159                              1 \n",
       "Rolex Cosmograph Daytona Two Tone Men's Watch 116523                            1 \n",
       "Rolex Datejust 31 Oyster Bracelet Two Tone Watch 178273                         1 \n",
       "Rolex Lady-Datejust 26 Oystersteel Women's Watch 179163                         1 \n",
       "Rolex Cosmograph Daytona 116599                                                 1 \n",
       "Rolex Cosmograph Daytona 116519                                                 1 \n",
       "Rolex Datejust 31 Silver Jubilee Design Dial Watch 178245                       1 \n",
       "Rolex Datejust 31 Diamond Bezel Ladies Watch 178341                             1 \n",
       "Rolex Cosmograph Daytona Men's Watch 116519                                     1 \n",
       "Rolex Datejust 31 Blue Dial Watch 178274                                        1 \n",
       "Rolex Datejust 31 Silver Roman Numeral Jubilee Bracelet Watch 178313            1 \n",
       "Rolex Datejust 36 116244                                                        1 \n",
       "Rolex Datejust 31 Purple Diamond Oyster Bracelet Watch 178274                   1 \n",
       "Rolex Datejust 36 Silver Women's Watch 116244                                   1 \n",
       "Rolex Datejust 31 Blue Dial Gold & Steel Women's Watch 178243                   1 \n",
       "Rolex Lady-Datejust 26 Oystersteel Women's Watch 179173                         1 \n",
       "Rolex Cosmograph Daytona Champagne Dial Watch 116503                            1 \n",
       "Rolex Cellini Prince 54439                                                      1 \n",
       "Rolex Datejust 31 White Roman Numeral Jubilee Bracelet Watch 178313             1 \n",
       "Rolex Datejust 31 178158                                                        1 \n",
       "Rolex Cellini Date 50519                                                        1 \n",
       "Rolex Datejust 31 Black Dial Gold Watch 178288                                  1 \n",
       "Rolex Cosmograph Daytona Luxury Men's Watch 116508                              1 \n",
       "Rolex Datejust 31 Stainless Steel & White Gold Watch 178274                     1 \n",
       "Rolex Datejust 36 Women's Oystersteel Watch 116243                              1 \n",
       "Rolex Yacht-Master II 116689                                                    1 \n",
       "Rolex Datejust 31 Purple Dial Steel & Gold Watch 178341                         1 \n",
       "Rolex Datejust 31 Swiss Watch 178158                                            1 \n",
       "Rolex Cosmograph Daytona Black Dial Men's Watch 116518                          1 \n",
       "Rolex Datejust 31 Automatic Solid 18K Yellow Gold Watch 178288                  1 \n",
       "Rolex Datejust 31 178238                                                        1 \n",
       "Rolex Datejust 31 Blue Dial Women's Watch 178240                                1 \n",
       "Rolex Datejust 36 118285BBR                                                     1 \n",
       "Rolex Datejust 31 Blue Dial Automatic Ladies Watch 178274                       1 \n",
       "Rolex Lady-Datejust 26 179168                                                   1 \n",
       "Rolex Datejust 31 White Dial Watch 178240                                       1 \n",
       "Rolex Cosmograph Daytona Black Dial Men's Watch 116509                          1 \n",
       "Rolex Cosmograph Daytona Luxury Men's Watch 116509                              1 \n",
       "Rolex Lady-Datejust 26 Pearl Watch 179174                                       1 \n",
       "Rolex Lady-Datejust 26 Pearl Diamond Women's Watch 179174                       1 \n",
       "Rolex Datejust 31 Steel & Rose Gold Watch 178241                                1 \n",
       "Rolex Datejust 31 Blue Dial Gold Diamond Watch 178288                           1 \n",
       "Rolex Datejust 31 Diamond Gold Women's Watch 178158                             1 \n",
       "Rolex Cellini Cestello 5320/9                                                   1 \n",
       "Rolex Cosmograph Daytona Oyster Bracelet Watch 116509                           1 \n",
       "Rolex Datejust 31 Solid Gold Ladies Watch 178158                                1 \n",
       "Rolex Datejust 31 Diamond Pave Dial Watch 178278                                1 \n",
       "Rolex Datejust 31 Mother of Pearl Diamond Dial Watch 178158                     1 \n",
       "Rolex Datejust 31 Silver Jubilee Design Dial Watch 178240                       1 \n",
       "Rolex GMT-Master II 116710BLNR                                                  1 \n",
       "Rolex Datejust 31 Solid Gold Women's Watch 178158                               1 \n",
       "Rolex Datejust 36 Women's Pearl Watch 116234                                    1 \n",
       "Rolex Datejust 31 178313                                                        1 \n",
       "Rolex Submariner 14060M                                                         1 \n",
       "Rolex Cellini Dual Time 50525                                                   1 \n",
       "Rolex Cosmograph Daytona Two Tone Watch 116503                                  1 \n",
       "Rolex Datejust 31 Chocolate Dial Watch 178271                                   1 \n",
       "Rolex Datejust 31 Silver Diamond Dial Unisex Watch 178271                       1 \n",
       "Rolex Oyster Perpetual Air-King 116900                                          1 \n",
       "Rolex Cosmograph Daytona White Dial Men's Watch 116518                          1 \n",
       "Rolex Cellini Quartz 6633/9                                                     1 \n",
       "Rolex Cosmograph Daytona Champagne Dial Men's Watch 116523                      1 \n",
       "Rolex Datejust 31 Mother of Pearl Dial Ladies Watch 178341                      1 \n",
       "Rolex Lady-Datejust 26 Pink Dial Watch 179174                                   1 \n",
       "Rolex Datejust 31 Jubilee Bracelet Automatic Women's Watch 178274               1 \n",
       "Rolex Datejust 31 Solid 18k Yellow Gold & Steel Watch 178273                    1 \n",
       "Rolex Datejust 31 White Roman Numeral Gold Women's Watch 178288                 1 \n",
       "Rolex Cosmograph Daytona Pave Dial Watch 116509                                 1 \n",
       "Rolex Datejust 31 Pink Diamond Dial Watch 178341                                1 \n",
       "Rolex Datejust 31 Silver Jubilee DIal Watch 178158                              1 \n",
       "Rolex Datejust 31 White Gold & Steel Watch 178274                               1 \n",
       "Rolex Cosmograph Daytona Diamond Watch 116518                                   1 \n",
       "Rolex Datejust 31 Stainless Steel Watch 178240                                  1 \n",
       "Rolex Datejust 31 Steel Women's Watch 178274                                    1 \n",
       "Rolex Lady-Datejust 26 White Dial Women's Watch 179160                          1 \n",
       "Rolex Datejust 31 White Diamond President Bracelet Gold Watch 178278            1 \n",
       "Rolex Cosmograph Daytona Blue Men's Watch 116519                                1 \n",
       "Rolex Cellini Cestello 5330/5                                                   1 \n",
       "Rolex Datejust 31 Automatic Ladies Watch 178273                                 1 \n",
       "Rolex Lady-Datejust 26 Oystersteel Women's Watch 179384                         1 \n",
       "Rolex Datejust 31 Mother of Pearl Automatic Watch 178274                        1 \n",
       "Rolex Datejust 31 Silver Jubilee Diamond Two Tone Watch 178341                  1 \n",
       "Rolex Cosmograph Daytona Yellow Gold Men's Watch 116518                         1 \n",
       "Rolex Datejust 31 Pink Jubilee Dial Ladies Watch 178271                         1 \n",
       "Rolex Cosmograph Daytona Blue Dial Men's Watch 116523                           1 \n",
       "Rolex Cosmograph Daytona White Diamond Dial Watch 116528                        1 \n",
       "Rolex Datejust 31 Luxury Women's Watch 178241                                   1 \n",
       "Rolex Cellini Danaos 4233/9                                                     1 \n",
       "Rolex Datejust 31 Women's Black Dial Watch 178384                               1 \n",
       "Rolex Datejust 31 Blue Dial White Gold Women's Watch 178159                     1 \n",
       "Rolex Datejust 31 Women's Watch 178158                                          1 \n",
       "Rolex Cosmograph Daytona White Dial Men's Watch 116508                          1 \n",
       "Rolex Datejust 31 Blue Dial Watch 178238                                        1 \n",
       "Rolex Datejust 31 Women's Watch 178344                                          1 \n",
       "Rolex Datejust 31 Stainless Steel Ladies Watch 178240                           1 \n",
       "Rolex Lady-Datejust 26 Watch for Women 179173                                   1 \n",
       "Rolex Datejust 31 Diamond Automatic Women's Watch 178158                        1 \n",
       "Rolex Datejust 31 Silver Dial Women's Watch 178240                              1 \n",
       "Rolex Datejust 31 Green Dial Gold Watch 178278                                  1 \n",
       "Rolex Datejust 31 Blue Dial Automatic Women's Watch 178274                      1 \n",
       "Rolex Datejust 31 Mother of Pearl Diamond Oyster Bracelet Watch 178313          1 \n",
       "Rolex Datejust 31 Concentric Circle Champagne Dial Watch 178273                 1 \n",
       "Rolex Datejust 31 Champagne Jubilee Dial Watch 178243                           1 \n",
       "Rolex Datejust 31 Silver Dial Oyster Bracelet Watch 178271                      1 \n",
       "Rolex Cosmograph Daytona Diamond Dial Men's Watch 116509                        1 \n",
       "Rolex Cosmograph Daytona Roman Numeral Men's Watch 116518                       1 \n",
       "Rolex Datejust 31 Purple Diamond Dial Watch 178274                              1 \n",
       "Rolex Cosmograph Daytona Oyster Bracelet Watch 116505                           1 \n",
       "Rolex Datejust 31 Diamond Women's Watch 178341                                  1 \n",
       "Rolex Cellini Cestello 5330/9                                                   1 \n",
       "Rolex Datejust 31 178288                                                        1 \n",
       "Rolex Datejust 31 Solid 18K Rose Gold Watch 178275                              1 \n",
       "Rolex Datejust 31 Champagne Floral Motif Dial Watch 178243                      1 \n",
       "Rolex Datejust 31 Mother of Pearl Diamond Dial Watch 178243                     1 \n",
       "ROLEX DATEJUST 36 126233                                                        1 \n",
       "Rolex Datejust 31 Black Dial Oyster Bracelet Watch 178313                       1 \n",
       "Rolex Datejust 31 Black Dial Oyster Bracelet Watch 178271                       1 \n",
       "Rolex Datejust 31 Steel & White Gold Bezel Watch 178274                         1 \n",
       "Rolex Datejust 31 Gold Diamond Women's Watch 178238                             1 \n",
       "Rolex Datejust 31 Everose Gold & Oystersteel Watch 178271                       1 \n",
       "Rolex Datejust 31 Bronze Dial Diamond Women's Watch 178159                      1 \n",
       "Rolex Cosmograph Daytona 116528                                                 1 \n",
       "Rolex Datejust 31 Pink Dial Jubilee Bracelet Watch 178274                       1 \n",
       "Rolex Datejust 31 Diamond Women's Watch 178245                                  1 \n",
       "Rolex Lady-Datejust 26 Women's 179173                                           1 \n",
       "Rolex Cellini Cestello 5310/5                                                   1 \n",
       "Rolex Datejust 31 Stainless Steel & 18k White Gold Watch 178274                 1 \n",
       "Rolex Datejust 31 Stainless Steel Watch 178274                                  1 \n",
       "Rolex Datejust 31 Jubilee Bracelet Automatic Ladies Watch 178274                1 \n",
       "Rolex Cosmograph Daytona Grey Dial Men's Watch 116528                           1 \n",
       "Rolex Datejust 31 Watch 178243                                                  1 \n",
       "Rolex Datejust 31 Luxury Women's Watch 178313                                   1 \n",
       "Rolex Cosmograph Daytona Men's Watch 116515LN                                   1 \n",
       "Rolex Datejust 31 178248                                                        1 \n",
       "Rolex Cellini 5116/9                                                            1 \n",
       "Rolex Datejust 31 White Diamond Dial Women's Watch 178271                       1 \n",
       "Rolex Datejust 31 Two Tone Women's Watch 178243                                 1 \n",
       "Rolex Yacht-Master 40 116655                                                    1 \n",
       "Rolex Datejust 31 President Bracelet Women's Watch 178158                       1 \n",
       "Rolex Datejust 31 Elegant Women's Watch 178273                                  1 \n",
       "Rolex Lady-Datejust 26 Women's Watch 179384                                     1 \n",
       "Rolex Datejust 31 Mother of Pearl Diamond Women's Watch 178273                  1 \n",
       "Rolex Cellini Time 50509                                                        1 \n",
       "Rolex Cosmograph Daytona Gold Men's Watch 116509                                1 \n",
       "Rolex Cellini 5115/9                                                            1 \n",
       "Rolex Cosmograph Daytona Champagne Diamond Dial Watch 116528                    1 \n",
       "Rolex Datejust 31 Automatic Rose Gold & Steel Watch 178341                      1 \n",
       "Rolex Cosmograph Daytona Gold Men's Watch 116508                                1 \n",
       "Rolex Cosmograph Daytona Mother of Pearl Dial Watch 116589                      1 \n",
       "Rolex Datejust 31 Mother of Pearl Diamond Oyster Bracelet Watch 178341          1 \n",
       "Rolex Datejust 31 Solid Gold Blue Dial Watch 178248                             1 \n",
       "Rolex Cosmograph Daytona Diamond Dial Men's Watch 116598                        1 \n",
       "Rolex Cosmograph Daytona Gray Dial Men's Watch 116519                           1 \n",
       "Rolex Datejust 31 Black Dial Women's Watch 178273                               1 \n",
       "Rolex Datejust 31 White Dial Jubilee Bracelet Women's Watch 178240              1 \n",
       "Rolex Datejust 31 Automatic Steel & 18k White Gold Fluted Bezel Watch 178274    1 \n",
       "Rolex Cellini Cellissima 6692/9                                                 1 \n",
       "Rolex Cellini Quartz 6623/8                                                     1 \n",
       "Rolex GMT-Master II 126710BLRO                                                  1 \n",
       "Rolex Datejust 31 Diamond Dial Two Tone Watch 178271                            1 \n",
       "Rolex Datejust 36 Women's Watch 116234                                          1 \n",
       "Rolex Cellini Moonphase                                                         1 \n",
       "Rolex Datejust 31 Mother of Pearl Diamond Gold Watch 178278                     1 \n",
       "Rolex Datejust 31 Black Dial Jubilee Bracelet Watch 178274                      1 \n",
       "Rolex Sky-Dweller White Dial Men's Watch 326933                                 1 \n",
       "Rolex Datejust 31 White Roman Numeral Gold Watch 178278                         1 \n",
       "Rolex Cosmograph Daytona Pink Dial Watch 116515LN                               1 \n",
       "Rolex Datejust 31 Pink Dial Rose Gold Watch 178245                              1 \n",
       "Rolex Cosmograph Daytona White Gold Case Men's Watch 116519LN                   1 \n",
       "Rolex Datejust 31 Gold & Steel Watch 178241                                     1 \n",
       "Rolex Datejust 31 Automatic Solid 18K Yellow Gold Watch 178278                  1 \n",
       "Rolex Datejust 31 Roman Numeral Dial Watch 178158                               1 \n",
       "Rolex Cosmograph Daytona 116506                                                 1 \n",
       "Rolex Datejust 31 Luxury Silver Jubilee Diamond Watch 178273                    1 \n",
       "Rolex Datejust 31 Pink Mother of Pearl Watch 178159                             1 \n",
       "Rolex Cellini 4243/9                                                            1 \n",
       "Rolex Datejust 31 Black Diamond Women's Watch 178158                            1 \n",
       "Rolex Cosmograph Daytona 18k White Gold Watch 116519                            1 \n",
       "Rolex Datejust 31 Two Tone Women's Watch 178313                                 1 \n",
       "Rolex Datejust 31 Solid 18k Gold Women's Watch 178158                           1 \n",
       "Rolex Datejust 31 Yellow Gold and Stainless Steel Ladies Watch 178313           1 \n",
       "Rolex Datejust 31 White Dial Watch 178273                                       1 \n",
       "Rolex Cosmograph Daytona Diamond Dial Watch 116503                              1 \n",
       "Rolex Datejust 36 Women's Pearl Watch 116244                                    1 \n",
       "Rolex Lady-Datejust 26 Watch for Women 179160                                   1 \n",
       "Rolex Cosmograph Daytona Silver Dial Men's Watch 116509                         1 \n",
       "Rolex Day-Date 36 118366                                                        1 \n",
       "Rolex Cosmograph Daytona Green Dial Watch 116508                                1 \n",
       "Rolex Datejust 31 Luxury Watch 178273                                           1 \n",
       "Rolex Lady-Datejust 26 Silver Dial Women's Watch 179173                         1 \n",
       "Rolex Datejust 36 Women's White Dial Watch 116243                               1 \n",
       "Rolex Datejust 31 Gold Women's Watch 178159                                     1 \n",
       "Rolex Datejust 36 Gold Dial Women's Watch 116243                                1 \n",
       "Rolex Submariner Date 116613LB                                                  1 \n",
       "Rolex Datejust 31 Solid 18k White Gold Women's Watch 178159                     1 \n",
       "Rolex Cosmograph Daytona 40MM Men's Watch 116518                                1 \n",
       "Rolex Lady-Datejust 28 Lilac Dial Women's Watch 279138RBR                       1 \n",
       "Rolex Datejust 31 Automatic Ladies Oyster Bracelet Watch 178273                 1 \n",
       "Rolex Cosmograph Daytona Diamond Men's Watch 116508                             1 \n",
       "Rolex Datejust 31 Silver Jubilee Diamond Dial Watch 178274                      1 \n",
       "Rolex Submariner Date 116613LN                                                  1 \n",
       "Rolex Datejust 31 Solid Yellow Gold Women's Watch 178278                        1 \n",
       "Rolex Datejust 31 Rhodium Floral Oyster Bracelet Watch 178274                   1 \n",
       "Rolex Datejust 31 Silver Dial White Gold Women's Watch 178159                   1 \n",
       "Rolex Datejust 31 Automatic Blue Dial Oyster Bracelet Watch 178313              1 \n",
       "Rolex Cosmograph Daytona 116598                                                 1 \n",
       "Rolex Datejust 31 Pink Floral Motif Dial Watch 178271                           1 \n",
       "Rolex Datejust 31 Pink Dial Watch 178271                                        1 \n",
       "Rolex Datejust 31 18k Yellow Gold Watch 178248                                  1 \n",
       "Rolex Datejust 31 Automatic Pink Diamond Jubilee Watch 178341                   1 \n",
       "Rolex Submariner Date 116619                                                    1 \n",
       "Rolex Datejust 31 White Dial Rose Gold & Steel Watch 178271                     1 \n",
       "Rolex Datejust 31 Yellow Gold Women's Watch 178238                              1 \n",
       "Rolex Datejust 31 Mother of Pearl Diamond Jubilee Bracelet Watch 178341         1 \n",
       "Rolex Cosmograph Daytona Men's Watch 116500LN                                   1 \n",
       "Rolex Datejust 31 Silver Dial Diamond Watch 178238                              1 \n",
       "Rolex Datejust 31 Mother of Pearl Diamond Gold Watch 178158                     1 \n",
       "Rolex Datejust 31 Purple Roman Numeral Dial Watch 178341                        1 \n",
       "Rolex Datejust 31 Automatic Jubilee Bracelet Women's Watch 178341               1 \n",
       "Rolex Datejust 31 White Dial Watch 178271                                       1 \n",
       "Rolex Cosmograph Daytona Grey Dial Watch 116523                                 1 \n",
       "Rolex Datejust 31 White Dial Watch 178243                                       1 \n",
       "Rolex Datejust 36 Women's Watch 116243                                          1 \n",
       "Rolex Datejust 31 18k White Gold Women's Watch 178159                           1 \n",
       "Rolex Datejust 31 Blue Dial Oyster Bracelet Watch 178273                        1 \n",
       "Rolex Yacht-Master 40 16628                                                     1 \n",
       "Rolex Cosmograph Daytona White Dial Watch 116519                                1 \n",
       "Rolex Oyster Perpetual 26 Women's Watch 176200                                  1 \n",
       "Rolex Cosmograph Daytona Blue Dial Watch 116528                                 1 \n",
       "Rolex Datejust 31 Blue Dial Steel Women's Watch 178240                          1 \n",
       "Rolex Datejust 36 Women's Diamond 116244                                        1 \n",
       "Rolex Cellini Danaos Women's Watch 4233/9                                       1 \n",
       "Rolex Datejust 31 178243                                                        1 \n",
       "Rolex Datejust 31 Pink Roman Numeral Dial Watch 178341                          1 \n",
       "Rolex Datejust 31 Silver Dial Watch 178271                                      1 \n",
       "Rolex Datejust 31 Two Tone Automatic Ladies Watch 178273                        1 \n",
       "Rolex Datejust 31 Solid Gold Women's Watch 178275                               1 \n",
       "Rolex Cellini Date Black Dial Watch 50519                                       1 \n",
       "Rolex Datejust 31 Luxury Watch 178158                                           1 \n",
       "Rolex Datejust 31 White Diamond Oyster Bracelet Watch 178341                    1 \n",
       "Rolex Datejust 31 Luxury Automatic Women's Watch 178278                         1 \n",
       "Rolex Cosmograph Daytona Blue Dial Men's Watch 116518                           1 \n",
       "Rolex Datejust 31 178241                                                        1 \n",
       "Rolex Cosmograph Daytona Diamond Dial Men's Watch 116519                        1 \n",
       "Rolex Lady-Datejust 26 White Dial Women's Watch 179161                          1 \n",
       "Rolex Datejust 31 Black Dial Diamond Bezel Watch 178159                         1 \n",
       "Rolex Datejust 31 Steel & Gold Blue Dial Watch 178243                           1 \n",
       "Rolex Datejust 31 Pink Dial Women's Watch 178245                                1 \n",
       "Rolex Datejust 31 Solid 18k Gold & Oystersteel Watch 178273                     1 \n",
       "Rolex Datejust 31 Two Tone Women's Watch 178341                                 1 \n",
       "Rolex Cosmograph Daytona Diamond Dial Men's Watch 116523                        1 \n",
       "Rolex Sea-Dweller 4000 16600                                                    1 \n",
       "Rolex Datejust 31 Champagne Floral Motif Dial 178273                            1 \n",
       "Rolex Datejust 36 Women's Watch 116244                                          1 \n",
       "Rolex Datejust 31 Black Mother of Pearl Dial Watch 178341                       1 \n",
       "Rolex Cosmograph Daytona Men's Swiss Watch 116519                               1 \n",
       "Rolex Lady-Datejust 26 Pink Dial Women's Watch 179174                           1 \n",
       "Rolex Datejust 31 Black Dial Luxury Watch 178240                                1 \n",
       "Rolex Datejust 31 178159                                                        1 \n",
       "Rolex Cellini 5320/8                                                            1 \n",
       "Rolex Cellini Prince Diamond Watch 54419                                        1 \n",
       "Rolex Datejust 31 Black Dial Oyster Bracelet Watch 178274                       1 \n",
       "Rolex Cellini Cellissima 6693/9                                                 1 \n",
       "Rolex Cosmograph Daytona Black Dial Men's Watch 116523                          1 \n",
       "Rolex Datejust 31 Watch 178273                                                  1 \n",
       "Rolex Datejust 36 Women's Black Dial Watch 116234                               1 \n",
       "Rolex Datejust 31 Blue Dial Steel Watch 178240                                  1 \n",
       "Rolex Datejust 31 Rhodium Dial Watch 178240                                     1 \n",
       "Rolex Datejust 31 Purple Dial Watch 178271                                      1 \n",
       "Rolex Datejust 31 Black Diamond Watch 178159                                    1 \n",
       "Rolex Datejust 31 Yellow Gold & Steel Watch 178243                              1 \n",
       "Rolex Datejust 31 Automatic Women's Watch 178274                                1 \n",
       "Rolex Datejust 31 Silver Diamond Oyster Bracelet Watch 178341                   1 \n",
       "Rolex Lady-Datejust 26 Silver Women's Watch 179174                              1 \n",
       "Rolex GMT-Master II 126711CHNR                                                  1 \n",
       "Rolex Cosmograph Daytona Two Tone Men's Watch 116528                            1 \n",
       "Rolex Datejust 31 Champagne Dial Fluted Bezel Gold Watch 178278                 1 \n",
       "Rolex Datejust 31 Black Diamond Solid Gold Watch 178278                         1 \n",
       "Rolex Cosmograph Daytona Mother of Pearl Dial Men's Watch 116503                1 \n",
       "Rolex Datejust 31 Ladies Watch 178158                                           1 \n",
       "Rolex Datejust 31 Automatic Solid Rose Gold & Steel Watch 178341                1 \n",
       "Rolex Cosmograph Daytona 116503                                                 1 \n",
       "Rolex Datejust 31 Pink Dial Watch 178341                                        1 \n",
       "Rolex Datejust 31 Mother of Pearl Diamond Jubilee Bracelet Watch 178274         1 \n",
       "Rolex Datejust 31 Jubilee Bracelet Women's Watch 178341                         1 \n",
       "Rolex Datejust 31 Silver Jubilee Diamond Oyster Bracelet Watch 178274           1 \n",
       "Rolex Datejust 31 Black Dial Jubilee Bracelet Watch 178313                      1 \n",
       "Rolex Datejust 31 White Mother of Pearl Dial Women's Watch 178273               1 \n",
       "Rolex Pearlmaster 80318                                                         1 \n",
       "Rolex Cosmograph Daytona 116508                                                 1 \n",
       "Rolex Datejust 36 116185-PNKDL                                                  1 \n",
       "Rolex Datejust 31 Mother of Pearl Roman Numeral Dial Watch 178245               1 \n",
       "Rolex Cellini Quartz 6111/9                                                     1 \n",
       "Rolex Datejust 31 Mother of Pearl Roman Numeral Dial Watch 178243               1 \n",
       "Rolex Cellini Dual Time 50529                                                   1 \n",
       "Rolex Datejust 31 Rose Gold Women's Watch 178245                                1 \n",
       "Rolex Cellini Prince 54408                                                      1 \n",
       "Rolex Lady-Datejust 26 Women's Watch 179160                                     1 \n",
       "Rolex Datejust 31 Gold & Steel Pink Dial Watch 178271                           1 \n",
       "Rolex Datejust 31 Solid Gold Watch 178245                                       1 \n",
       "Rolex Datejust 31 Women's Automatic Gold Watch 178278                           1 \n",
       "Rolex Cosmograph Daytona Pave Dial Watch 116599                                 1 \n",
       "Rolex Cosmograph Daytona White Dial Men's Watch 116520                          1 \n",
       "Rolex Lady-Datejust 26 Oystersteel Women's Watch 179174                         1 \n",
       "Rolex Cosmograph Daytona Black Dial Men's Watch 116528                          1 \n",
       "Rolex Cosmograph Daytona Mother of Pearl Diamond Dial Men's Watch 116528        1 \n",
       "Rolex Datejust 31 Pink Dial Watch 178240                                        1 \n",
       "Rolex Datejust 31 Black Diamond Oyster Bracelet Watch 178341                    1 \n",
       "Rolex Datejust 31 Stainless Steel Pink Dial Watch 178240                        1 \n",
       "Rolex Datejust 31 Gold Automatic Women's Watch 178278                           1 \n",
       "Rolex Datejust 31 Pink Dial Watch 178159                                        1 \n",
       "Rolex Datejust 31 18k Gold & Steel Watch 178271                                 1 \n",
       "Rolex Datejust 31 Gold Women's Watch 178158                                     1 \n",
       "Rolex Cosmograph Daytona Ivory Dial Men's Watch 116528                          1 \n",
       "Rolex Datejust 31 Silver Automatic Steel & White Gold Watch 178274              1 \n",
       "Rolex Datejust 31 Diamond Women's Watch 178158                                  1 \n",
       "Rolex Datejust 31 Pink Roman Numeral Jubilee Bracelet Watch 178274              1 \n",
       "Rolex Datejust 31 Green Dial Women's Watch 178273                               1 \n",
       "Rolex Lady-Datejust 26 Watch for Women 179174                                   1 \n",
       "Rolex Datejust 31 Steel and 18k Yellow Gold Watch 178273                        1 \n",
       "Rolex Datejust 31 Purple Dial Women's Watch 178245                              1 \n",
       "Rolex Datejust 36 Diamond Women's Watch 116244                                  1 \n",
       "Rolex Cosmograph Daytona Yellow Gold Watch 116508                               1 \n",
       "Rolex Datejust 36 126281RBR                                                     1 \n",
       "Rolex Datejust 31 Mother of Pearl Roman Numeral Watch 178274                    1 \n",
       "Rolex Datejust 31 Solid Yellow Gold Women's Watch 178238                        1 \n",
       "Rolex Datejust 31 Black Dial Stainless Steel Women's Watch 178240               1 \n",
       "Rolex Cosmograph Daytona Mother of Pearl Dial Watch 116528                      1 \n",
       "Rolex Datejust 31 Stainless Steel White Dial Watch 178240                       1 \n",
       "Rolex Datejust 31 Steel & White Gold Fluted Bezel Watch 178274                  1 \n",
       "Rolex Datejust 31 Blue Dial Diamond Bezel Two Tone Watch 178313                 1 \n",
       "Rolex Datejust 31 178240                                                        1 \n",
       "Rolex Datejust 31 White Dial Jubilee Bracelet Watch 178274                      1 \n",
       "Rolex Cosmograph Daytona 116518                                                 1 \n",
       "Rolex Datejust 31 178245                                                        1 \n",
       "Rolex Submariner 114060                                                         1 \n",
       "Rolex Datejust 31 Blue Diamond Watch 178159                                     1 \n",
       "Rolex Cosmograph Daytona Luxury Men's Watch 116518                              1 \n",
       "Rolex Datejust 31 Gold Watch 178248                                             1 \n",
       "Rolex Cellini Cellissima 6671/9                                                 1 \n",
       "Rolex Datejust 31 Automatic Blue Dial Diamond Bezel Watch 178313                1 \n",
       "Rolex Cosmograph Daytona Mother of Pearl Men's Watch 116518                     1 \n",
       "Rolex Datejust 31 Blue Dial Jubilee Bracelet Watch 178273                       1 \n",
       "Rolex Datejust 31 Blue Dial Yellow Gold & Steel Watch 178273                    1 \n",
       "Rolex Datejust 31 Mother of Pearl Diamond Dial Watch 178245                     1 \n",
       "Rolex Datejust 31 Pink Mother of Pearl Women's Watch 178274                     1 \n",
       "Rolex Datejust 31 Black Dial Automatic Women's Watch 178274                     1 \n",
       "Rolex Datejust 31 Silver Dial Watch 178341                                      1 \n",
       "Rolex Cosmograph Daytona Oyster Bracelet Watch 116528                           1 \n",
       "Rolex Datejust 31 Two Tone Women's Watch 178241                                 1 \n",
       "Rolex Datejust 31 Blue Dial Stainless Steel & Gold Watch 178313                 1 \n",
       "Rolex Cosmograph Daytona Men's Watch 116518                                     1 \n",
       "Rolex Datejust 31 Black Dial Domed Bezel Watch 178240                           1 \n",
       "Rolex Lady-Datejust 26 Black Dial Women's Watch 179171                          1 \n",
       "Rolex Lady-Datejust 26 Women's Luxury Watch 179174                              1 \n",
       "Rolex Datejust 31 President Bracelet Diamond Women's Watch 178159               1 \n",
       "Rolex Datejust 36 Women's Gold Watch 116243                                     1 \n",
       "Rolex Cosmograph Daytona Black Diamond Dial Men's Watch 116589                  1 \n",
       "Rolex Datejust 31 Silver Dial Women's Watch 178158                              1 \n",
       "Rolex Datejust 31 Oyster Bracelet Women's Watch 178158                          1 \n",
       "Rolex Datejust 31 Blue Dial Jubilee Bracelet Watch 178240                       1 \n",
       "Rolex Cosmograph Daytona 18k Gold Watch 116518                                  1 \n",
       "Rolex Datejust 36 Diamond Women's 116244                                        1 \n",
       "Rolex Datejust 31 Elegant Automatic 18K Yellow Gold Watch 178278                1 \n",
       "Rolex Cosmograph Daytona Black Dial Men's Watch 116508                          1 \n",
       "Rolex Datejust 31 White Dial Oyster Bracelet Watch 178274                       1 \n",
       "Rolex Datejust 31 Gold & Steel Watch 178243                                     1 \n",
       "Rolex Datejust 31 White Gold Women's Watch 178159                               1 \n",
       "Rolex Lady-Datejust 26 Pearl Women's Watch 179174                               1 \n",
       "Rolex Datejust 31 Champagne Diamond Gold Watch 178278                           1 \n",
       "Rolex Datejust 31 Rose Gold & Steel Women's Watch 178241                        1 \n",
       "Rolex Datejust 31 Pink Dial White Gold Watch 178159                             1 \n",
       "Rolex Datejust 31 Blue Dial Oyster Bracelet Automatic Watch 178274              1 \n",
       "Rolex Yacht-Master II 116681                                                    1 \n",
       "Rolex Datejust 31 Diamond Swiss Women's Watch 178158                            1 \n",
       "Rolex Datejust 31 Silver Dial Watch 178245                                      1 \n",
       "Rolex Datejust 31 Black Roman Numeral Dial Watch 178274                         1 \n",
       "Rolex Datejust 31 Watch 178313                                                  1 \n",
       "Rolex Datejust 36 116185BBR                                                     1 \n",
       "Rolex Datejust 31 Roman Numeral Dial Watch 178240                               1 \n",
       "Rolex Datejust 31 Pink Dial Ladies Watch 178240                                 1 \n",
       "Rolex Cosmograph Daytona Rose Gold Watch 116505                                 1 \n",
       "Rolex Cosmograph Daytona 116520                                                 1 \n",
       "Rolex Pearlmaster 80298                                                         1 \n",
       "Rolex Datejust 31 Mother of Pearl Dial Watch 178273                             1 \n",
       "Rolex Yacht-Master 40 16622                                                     1 \n",
       "Rolex Datejust 31 178275                                                        1 \n",
       "Rolex Yacht-Master 35 168622                                                    1 \n",
       "Rolex Cosmograph Daytona Mother of Pearl Dial Men's Watch 116519                1 \n",
       "Rolex Datejust 31 Diamond Bezel Oyster Bracelet Watch 178341                    1 \n",
       "Rolex Datejust 31 Green Diamond Dial Watch 178158                               1 \n",
       "Rolex Lady-Datejust 26 Silver Dial Women's Watch 179160                         1 \n",
       "Rolex Datejust 31 Blue Diamond Dial Women's Watch 178274                        1 \n",
       "Rolex Datejust 31 Black Mother of Pearl Diamond Ladies Watch 178159             1 \n",
       "Rolex Cellini Cestello 5310/9                                                   1 \n",
       "Rolex Datejust 31 Black Diamond Dial Watch 178158                               1 \n",
       "Rolex Datejust 31 Yellow Gold Women's Watch 178158                              1 \n",
       "Rolex Datejust 31 18k Yellow Gold Women's Watch 178158                          1 \n",
       "Rolex Datejust 31 Mother of Pearl Watch 178243                                  1 \n",
       "Rolex Datejust 31 White Dial Watch 178245                                       1 \n",
       "Rolex Lady-Datejust 26 179165                                                   1 \n",
       "Rolex Datejust 31 Luxury Steel & Gold Watch 178341                              1 \n",
       "Rolex Yacht-Master 37 268622                                                    1 \n",
       "Rolex Datejust 31 Women's Watch 178384                                          1 \n",
       "Rolex Datejust 31 Concentric Circle Black Dial Watch 178271                     1 \n",
       "Rolex Cellini Date Blue Dial 39MM Watch 50519                                   1 \n",
       "Rolex Cosmograph Daytona Blue Dial Men's Watch 116509                           1 \n",
       "Rolex Cosmograph Daytona 40MM Men's Watch 116519                                1 \n",
       "Rolex Yacht-Master 29 169622                                                    1 \n",
       "Rolex Cellini Cestello 5320/5                                                   1 \n",
       "Rolex Datejust 36 116135                                                        1 \n",
       "Rolex Cellini 5310/8                                                            1 \n",
       "Rolex Cellini Time Black Dial Watch 50509                                       1 \n",
       "Rolex Datejust 31 Women's Watch 178273                                          1 \n",
       "Rolex Datejust 31 Silver Jubilee Dial Watch 178243                              1 \n",
       "Rolex Datejust 31 Black Dial Women's Watch 178240                               1 \n",
       "Rolex Datejust 31 White Roman Numeral Dial Watch 178274                         1 \n",
       "Rolex Cellini 5115/8                                                            1 \n",
       "Rolex Cosmograph Daytona Men's Black Dial Watch 116500LN                        1 \n",
       "Rolex Cosmograph Daytona Ivory Dial Men's Watch 116523                          1 \n",
       "Rolex Datejust 31 Luxury Watch 178159                                           1 \n",
       "Rolex Lady-Datejust 26 Women's Watch 179173                                     1 \n",
       "Rolex Cosmograph Daytona White Dial Men's Watch 116523                          1 \n",
       "Rolex Datejust 31 Watch 178248                                                  1 \n",
       "Rolex Datejust 31 Silver Diamond Jubilee Bracelet Watch 178341                  1 \n",
       "Rolex Cosmograph Daytona Oyster Bracelet Watch 116503                           1 \n",
       "Rolex Datejust 31 White Roman Numeral Oyster Bracelet Watch 178341              1 \n",
       "Rolex Datejust 31 Mother of Pearl Roman Numeral Dial Watch 178159               1 \n",
       "Name: product, dtype: int64"
      ]
     },
     "execution_count": 310,
     "metadata": {},
     "output_type": "execute_result"
    }
   ],
   "source": [
    "df['product'].value_counts()"
   ]
  },
  {
   "cell_type": "code",
   "execution_count": 311,
   "metadata": {},
   "outputs": [],
   "source": [
    "df[\"price\"]=df[\"price\"].str.replace(\",\",\"\") # remove commas\n",
    "df[\"price\"]=df[\"price\"].str.replace(\"$\",\"\") #remove dollar sign to convert string to float\n",
    "df[\"price\"]=df[\"price\"].astype(float)"
   ]
  },
  {
   "cell_type": "code",
   "execution_count": 312,
   "metadata": {},
   "outputs": [],
   "source": [
    "df[\"retail_price\"]=df[\"retail_price\"].str.replace(\",\",\"\") # remove commas\n",
    "df[\"retail_price\"]=df[\"retail_price\"].str.replace(\"$\",\"\") #remove dollar sign to convert string to float\n",
    "df[\"retail_price\"]=df[\"retail_price\"].astype(float)"
   ]
  },
  {
   "cell_type": "code",
   "execution_count": 313,
   "metadata": {
    "scrolled": false
   },
   "outputs": [
    {
     "data": {
      "text/html": [
       "<div>\n",
       "<style scoped>\n",
       "    .dataframe tbody tr th:only-of-type {\n",
       "        vertical-align: middle;\n",
       "    }\n",
       "\n",
       "    .dataframe tbody tr th {\n",
       "        vertical-align: top;\n",
       "    }\n",
       "\n",
       "    .dataframe thead th {\n",
       "        text-align: right;\n",
       "    }\n",
       "</style>\n",
       "<table border=\"1\" class=\"dataframe\">\n",
       "  <thead>\n",
       "    <tr style=\"text-align: right;\">\n",
       "      <th></th>\n",
       "      <th>price</th>\n",
       "      <th>retail_price</th>\n",
       "    </tr>\n",
       "  </thead>\n",
       "  <tbody>\n",
       "    <tr>\n",
       "      <th>count</th>\n",
       "      <td>2835.000000</td>\n",
       "      <td>2748.000000</td>\n",
       "    </tr>\n",
       "    <tr>\n",
       "      <th>mean</th>\n",
       "      <td>20190.699824</td>\n",
       "      <td>22343.950146</td>\n",
       "    </tr>\n",
       "    <tr>\n",
       "      <th>std</th>\n",
       "      <td>16514.962186</td>\n",
       "      <td>17945.998873</td>\n",
       "    </tr>\n",
       "    <tr>\n",
       "      <th>min</th>\n",
       "      <td>4095.000000</td>\n",
       "      <td>4850.000000</td>\n",
       "    </tr>\n",
       "    <tr>\n",
       "      <th>25%</th>\n",
       "      <td>9275.000000</td>\n",
       "      <td>9900.000000</td>\n",
       "    </tr>\n",
       "    <tr>\n",
       "      <th>50%</th>\n",
       "      <td>12950.000000</td>\n",
       "      <td>14250.000000</td>\n",
       "    </tr>\n",
       "    <tr>\n",
       "      <th>75%</th>\n",
       "      <td>29295.000000</td>\n",
       "      <td>32937.500000</td>\n",
       "    </tr>\n",
       "    <tr>\n",
       "      <th>max</th>\n",
       "      <td>250000.000000</td>\n",
       "      <td>277850.000000</td>\n",
       "    </tr>\n",
       "  </tbody>\n",
       "</table>\n",
       "</div>"
      ],
      "text/plain": [
       "               price   retail_price\n",
       "count  2835.000000    2748.000000  \n",
       "mean   20190.699824   22343.950146 \n",
       "std    16514.962186   17945.998873 \n",
       "min    4095.000000    4850.000000  \n",
       "25%    9275.000000    9900.000000  \n",
       "50%    12950.000000   14250.000000 \n",
       "75%    29295.000000   32937.500000 \n",
       "max    250000.000000  277850.000000"
      ]
     },
     "execution_count": 313,
     "metadata": {},
     "output_type": "execute_result"
    }
   ],
   "source": [
    "df.describe()"
   ]
  },
  {
   "cell_type": "code",
   "execution_count": 253,
   "metadata": {},
   "outputs": [
    {
     "data": {
      "text/plain": [
       "(array([2.099e+03, 6.190e+02, 1.000e+02, 9.000e+00, 6.000e+00, 0.000e+00,\n",
       "        0.000e+00, 0.000e+00, 1.000e+00, 1.000e+00]),\n",
       " array([  4095. ,  28685.5,  53276. ,  77866.5, 102457. , 127047.5,\n",
       "        151638. , 176228.5, 200819. , 225409.5, 250000. ]),\n",
       " <a list of 10 Patch objects>)"
      ]
     },
     "execution_count": 253,
     "metadata": {},
     "output_type": "execute_result"
    },
    {
     "data": {
      "image/png": "[encoded data removed]",
      "text/plain": [
       "<Figure size 432x432 with 1 Axes>"
      ]
     },
     "metadata": {},
     "output_type": "display_data"
    }
   ],
   "source": [
    "plt.rcParams[\"figure.figsize\"]=6,6\n",
    "plt.hist(df.price)"
   ]
  },
  {
   "cell_type": "code",
   "execution_count": 161,
   "metadata": {},
   "outputs": [],
   "source": [
    "rolexprice=df.price.loc[df.price.map(lambda x: np.abs(x - df.price.mean()) / df.price.std() < 3)]"
   ]
  },
  {
   "cell_type": "code",
   "execution_count": 162,
   "metadata": {},
   "outputs": [
    {
     "data": {
      "text/plain": [
       "(2801,)"
      ]
     },
     "execution_count": 162,
     "metadata": {},
     "output_type": "execute_result"
    }
   ],
   "source": [
    "rolexprice.shape #34 observations removed"
   ]
  },
  {
   "cell_type": "code",
   "execution_count": 252,
   "metadata": {
    "scrolled": false
   },
   "outputs": [
    {
     "data": {
      "text/plain": [
       "(array([1057.,  677.,  137.,  287.,  321.,  105.,   84.,   70.,   44.,\n",
       "          19.]),\n",
       " array([ 4095. , 10580.5, 17066. , 23551.5, 30037. , 36522.5, 43008. ,\n",
       "        49493.5, 55979. , 62464.5, 68950. ]),\n",
       " <a list of 10 Patch objects>)"
      ]
     },
     "execution_count": 252,
     "metadata": {},
     "output_type": "execute_result"
    },
    {
     "data": {
      "image/png": "[encoded data removed]",
      "text/plain": [
       "<Figure size 432x432 with 1 Axes>"
      ]
     },
     "metadata": {},
     "output_type": "display_data"
    }
   ],
   "source": [
    "plt.rcParams[\"figure.figsize\"]=6,6\n",
    "plt.hist(rolexprice)"
   ]
  },
  {
   "cell_type": "code",
   "execution_count": 204,
   "metadata": {},
   "outputs": [],
   "source": [
    "pd.set_option('display.max_colwidth', -1) #show full rows because html output is truncated\n"
   ]
  },
  {
   "cell_type": "code",
   "execution_count": 251,
   "metadata": {
    "scrolled": true
   },
   "outputs": [
    {
     "data": {
      "text/plain": [
       "172    https://sep.yimg.com/ay/movadobaby/rolex-oyster-perpetual-day-date-special-edition-18956-48.jpg\n",
       "Name: image, dtype: object"
      ]
     },
     "execution_count": 251,
     "metadata": {},
     "output_type": "execute_result"
    }
   ],
   "source": [
    "df.loc[df.price==df.price.max()].image"
   ]
  },
  {
   "cell_type": "code",
   "execution_count": 377,
   "metadata": {},
   "outputs": [
    {
     "data": {
      "text/plain": [
       "772    https://sep.yimg.com/ay/movadobaby/rolex-oyster-perpetual-176200-280.jpg\n",
       "Name: image, dtype: object"
      ]
     },
     "execution_count": 377,
     "metadata": {},
     "output_type": "execute_result"
    }
   ],
   "source": [
    "df.loc[df.price==df.price.min()].image"
   ]
  },
  {
   "cell_type": "markdown",
   "metadata": {},
   "source": [
    "### The most expsensive listed: Rolex Oyster Perpetual Day Date Special Edition\n",
    "<img src=\" https://sep.yimg.com/ay/movadobaby/rolex-oyster-perpetual-day-date-special-edition-18956-48.jpg\" style=\"width: 250px;\">"
   ]
  },
  {
   "cell_type": "markdown",
   "metadata": {},
   "source": [
    "### The cheapest listed: Rolex Oyster Perpetual \n",
    "<img src=\" https://sep.yimg.com/ay/movadobaby/rolex-oyster-perpetual-176200-280.jpg\" alt=\"drawing\" style=\"width: 250px;\">"
   ]
  },
  {
   "cell_type": "markdown",
   "metadata": {},
   "source": [
    "### Perfect relationship between retail and online price"
   ]
  },
  {
   "cell_type": "code",
   "execution_count": 378,
   "metadata": {
    "scrolled": false
   },
   "outputs": [
    {
     "name": "stderr",
     "output_type": "stream",
     "text": [
      "C:\\Users\\samuelmao\\Anaconda3\\lib\\site-packages\\matplotlib\\axes\\_axes.py:6462: UserWarning: The 'normed' kwarg is deprecated, and has been replaced by the 'density' kwarg.\n",
      "  warnings.warn(\"The 'normed' kwarg is deprecated, and has been \"\n",
      "C:\\Users\\samuelmao\\Anaconda3\\lib\\site-packages\\matplotlib\\axes\\_axes.py:6462: UserWarning: The 'normed' kwarg is deprecated, and has been replaced by the 'density' kwarg.\n",
      "  warnings.warn(\"The 'normed' kwarg is deprecated, and has been \"\n"
     ]
    },
    {
     "data": {
      "text/plain": [
       "<seaborn.axisgrid.JointGrid at 0x17397d2b8d0>"
      ]
     },
     "execution_count": 378,
     "metadata": {},
     "output_type": "execute_result"
    },
    {
     "data": {
      "image/png": "[encoded data removed]",
      "text/plain": [
       "<Figure size 432x432 with 3 Axes>"
      ]
     },
     "metadata": {},
     "output_type": "display_data"
    }
   ],
   "source": [
    "sns.jointplot(df[\"price\"], df[\"retail_price\"])"
   ]
  },
  {
   "cell_type": "markdown",
   "metadata": {},
   "source": [
    "### Online Rolex watches are cheaper, but not by much"
   ]
  },
  {
   "cell_type": "code",
   "execution_count": 498,
   "metadata": {},
   "outputs": [
    {
     "data": {
      "text/plain": [
       "[<matplotlib.lines.Line2D at 0x1739bfc09b0>]"
      ]
     },
     "execution_count": 498,
     "metadata": {},
     "output_type": "execute_result"
    },
    {
     "data": {
      "image/png": "[encoded data removed]",
      "text/plain": [
       "<Figure size 576x576 with 1 Axes>"
      ]
     },
     "metadata": {},
     "output_type": "display_data"
    }
   ],
   "source": [
    "sns.regplot(x=\"retail_price\",y=\"price\",data=df,fit_reg=False,scatter_kws={'s':5})\n",
    "plt.plot([0, 150000], [0, 150000], linewidth=0.5)"
   ]
  },
  {
   "cell_type": "code",
   "execution_count": 274,
   "metadata": {
    "scrolled": false
   },
   "outputs": [
    {
     "data": {
      "text/plain": [
       "(0, 150000)"
      ]
     },
     "execution_count": 274,
     "metadata": {},
     "output_type": "execute_result"
    },
    {
     "data": {
      "image/png": "[encoded data removed]",
      "text/plain": [
       "<Figure size 432x432 with 1 Axes>"
      ]
     },
     "metadata": {},
     "output_type": "display_data"
    }
   ],
   "source": [
    "sns.regplot(x=\"retail_price\",y=\"price\",data=df,fit_reg=False,scatter_kws={'s':5})\n",
    "plt.plot([0, 150000], [0, 150000], linewidth=0.5)\n",
    "plt.ylim(0, 150000) #hide the most expensive  $250,000 watch from graph"
   ]
  },
  {
   "cell_type": "code",
   "execution_count": 335,
   "metadata": {},
   "outputs": [],
   "source": [
    "dat1=df.loc[df.retail_price.isnull()==False,:] #remove products that don't have retail price listed"
   ]
  },
  {
   "cell_type": "code",
   "execution_count": 350,
   "metadata": {},
   "outputs": [],
   "source": [
    "merged=pd.merge(df, dat1, how='inner', on =['product','item_number','price','retail_price','availability','condition','warranty','image'])"
   ]
  },
  {
   "cell_type": "code",
   "execution_count": 351,
   "metadata": {},
   "outputs": [
    {
     "data": {
      "text/html": [
       "<div>\n",
       "<style scoped>\n",
       "    .dataframe tbody tr th:only-of-type {\n",
       "        vertical-align: middle;\n",
       "    }\n",
       "\n",
       "    .dataframe tbody tr th {\n",
       "        vertical-align: top;\n",
       "    }\n",
       "\n",
       "    .dataframe thead th {\n",
       "        text-align: right;\n",
       "    }\n",
       "</style>\n",
       "<table border=\"1\" class=\"dataframe\">\n",
       "  <thead>\n",
       "    <tr style=\"text-align: right;\">\n",
       "      <th></th>\n",
       "      <th>availability</th>\n",
       "      <th>condition</th>\n",
       "      <th>image</th>\n",
       "      <th>item_number</th>\n",
       "      <th>price</th>\n",
       "      <th>product</th>\n",
       "      <th>retail_price</th>\n",
       "      <th>warranty</th>\n",
       "    </tr>\n",
       "  </thead>\n",
       "  <tbody>\n",
       "    <tr>\n",
       "      <th>0</th>\n",
       "      <td>Usually ships within 4 weeks</td>\n",
       "      <td>New - Never Worn</td>\n",
       "      <td>https://sep.yimg.com/ay/movadobaby/rolex-oyster-perpetual-yacht-master-169628-324.jpg</td>\n",
       "      <td>169628-GRY</td>\n",
       "      <td>21150.0</td>\n",
       "      <td>Rolex Yacht-Master 29 169628</td>\n",
       "      <td>23500.0</td>\n",
       "      <td>6 Years (Included),Silver: + 3 Years $95 Sale(+75), Gold:Lifetime $295 Sale(+245),Platinum:Lifetime w/Ultrasonic $395 Sale(+295)</td>\n",
       "    </tr>\n",
       "    <tr>\n",
       "      <th>1</th>\n",
       "      <td>Usually ships within 6 months</td>\n",
       "      <td>Store Display Model</td>\n",
       "      <td>https://sep.yimg.com/ay/movadobaby/rolex-oyster-perpetual-yacht-master-16623-291.jpg</td>\n",
       "      <td>16623-BLU</td>\n",
       "      <td>11700.0</td>\n",
       "      <td>Rolex Yacht-Master 40 16623</td>\n",
       "      <td>12600.0</td>\n",
       "      <td>6 Years (Included),Silver: + 3 Years $95 Sale(+75),Gold:Lifetime $295 Sale(+245),Platinum:Lifetime w/Ultrasonic $395 Sale(+295)</td>\n",
       "    </tr>\n",
       "    <tr>\n",
       "      <th>2</th>\n",
       "      <td>Usually ships within 4 weeks</td>\n",
       "      <td>New - Never Worn</td>\n",
       "      <td>https://s.yimg.com/aah/movadobaby/rolex-gmt-master-ii-116719blro-31.jpg</td>\n",
       "      <td>116719BLRO</td>\n",
       "      <td>34995.0</td>\n",
       "      <td>Rolex GMT-Master II 116719BLRO</td>\n",
       "      <td>36750.0</td>\n",
       "      <td>6 Years (Included),Silver: + 3 Years $95 Sale(+49), Gold:Lifetime $295 Best Value(+150),Platinum:Lifetime w/Ultrasonic $395 SALE(+225)</td>\n",
       "    </tr>\n",
       "    <tr>\n",
       "      <th>3</th>\n",
       "      <td>Usually ships within 3 months</td>\n",
       "      <td>New - Never Worn</td>\n",
       "      <td>https://sep.yimg.com/ay/movadobaby/rolex-oyster-perpetual-116034-313.jpg</td>\n",
       "      <td>116034-BLKOAO</td>\n",
       "      <td>6295.0</td>\n",
       "      <td>Rolex Oyster Perpetual 36 116034</td>\n",
       "      <td>6650.0</td>\n",
       "      <td>6 Years (Included),Silver: + 3 Years $95 Sale(+50), Gold:Lifetime $295 Best Value(+150),Platinum:Lifetime w/Ultrasonic $395 Sale(+225)</td>\n",
       "    </tr>\n",
       "    <tr>\n",
       "      <th>4</th>\n",
       "      <td>IN STOCK</td>\n",
       "      <td>Store Display Model</td>\n",
       "      <td>https://sep.yimg.com/ay/movadobaby/rolex-lady-datejust-28-279173-618.jpg</td>\n",
       "      <td>279173-SLVDJ</td>\n",
       "      <td>9475.0</td>\n",
       "      <td>Rolex Lady-Datejust 28 Women's Watch 279173</td>\n",
       "      <td>11100.0</td>\n",
       "      <td>6 Years (Included),Silver: + 3 Years $95 Sale(+75), Gold:Lifetime $295 Sale(+245),Platinum:Lifetime w/Ultrasonic $395 Sale(+295)</td>\n",
       "    </tr>\n",
       "  </tbody>\n",
       "</table>\n",
       "</div>"
      ],
      "text/plain": [
       "                    availability            condition  \\\n",
       "0  Usually ships within 4 weeks   New - Never Worn      \n",
       "1  Usually ships within 6 months  Store Display Model   \n",
       "2  Usually ships within 4 weeks   New - Never Worn      \n",
       "3  Usually ships within 3 months  New - Never Worn      \n",
       "4  IN STOCK                       Store Display Model   \n",
       "\n",
       "                                                                                   image  \\\n",
       "0  https://sep.yimg.com/ay/movadobaby/rolex-oyster-perpetual-yacht-master-169628-324.jpg   \n",
       "1  https://sep.yimg.com/ay/movadobaby/rolex-oyster-perpetual-yacht-master-16623-291.jpg    \n",
       "2  https://s.yimg.com/aah/movadobaby/rolex-gmt-master-ii-116719blro-31.jpg                 \n",
       "3  https://sep.yimg.com/ay/movadobaby/rolex-oyster-perpetual-116034-313.jpg                \n",
       "4  https://sep.yimg.com/ay/movadobaby/rolex-lady-datejust-28-279173-618.jpg                \n",
       "\n",
       "     item_number    price                                      product  \\\n",
       "0  169628-GRY     21150.0  Rolex Yacht-Master 29 169628                  \n",
       "1  16623-BLU      11700.0  Rolex Yacht-Master 40 16623                   \n",
       "2  116719BLRO     34995.0  Rolex GMT-Master II 116719BLRO                \n",
       "3  116034-BLKOAO  6295.0   Rolex Oyster Perpetual 36 116034              \n",
       "4  279173-SLVDJ   9475.0   Rolex Lady-Datejust 28 Women's Watch 279173   \n",
       "\n",
       "   retail_price  \\\n",
       "0  23500.0        \n",
       "1  12600.0        \n",
       "2  36750.0        \n",
       "3  6650.0         \n",
       "4  11100.0        \n",
       "\n",
       "                                                                                                                                 warranty  \n",
       "0  6 Years (Included),Silver: + 3 Years $95 Sale(+75), Gold:Lifetime $295 Sale(+245),Platinum:Lifetime w/Ultrasonic $395 Sale(+295)        \n",
       "1  6 Years (Included),Silver: + 3 Years $95 Sale(+75),Gold:Lifetime $295 Sale(+245),Platinum:Lifetime w/Ultrasonic $395 Sale(+295)         \n",
       "2  6 Years (Included),Silver: + 3 Years $95 Sale(+49), Gold:Lifetime $295 Best Value(+150),Platinum:Lifetime w/Ultrasonic $395 SALE(+225)  \n",
       "3  6 Years (Included),Silver: + 3 Years $95 Sale(+50), Gold:Lifetime $295 Best Value(+150),Platinum:Lifetime w/Ultrasonic $395 Sale(+225)  \n",
       "4  6 Years (Included),Silver: + 3 Years $95 Sale(+75), Gold:Lifetime $295 Sale(+245),Platinum:Lifetime w/Ultrasonic $395 Sale(+295)        "
      ]
     },
     "execution_count": 351,
     "metadata": {},
     "output_type": "execute_result"
    }
   ],
   "source": [
    "merged.head()"
   ]
  },
  {
   "cell_type": "markdown",
   "metadata": {},
   "source": [
    "### In general, online Rolex watches are 10% cheaper"
   ]
  },
  {
   "cell_type": "code",
   "execution_count": 605,
   "metadata": {},
   "outputs": [
    {
     "data": {
      "text/html": [
       "<table class=\"simpletable\">\n",
       "<caption>OLS Regression Results</caption>\n",
       "<tr>\n",
       "  <th>Dep. Variable:</th>          <td>price</td>      <th>  R-squared:         </th> <td>   1.000</td> \n",
       "</tr>\n",
       "<tr>\n",
       "  <th>Model:</th>                   <td>OLS</td>       <th>  Adj. R-squared:    </th> <td>   1.000</td> \n",
       "</tr>\n",
       "<tr>\n",
       "  <th>Method:</th>             <td>Least Squares</td>  <th>  F-statistic:       </th> <td>8.319e+06</td>\n",
       "</tr>\n",
       "<tr>\n",
       "  <th>Date:</th>             <td>Sat, 04 Aug 2018</td> <th>  Prob (F-statistic):</th>  <td>  0.00</td>  \n",
       "</tr>\n",
       "<tr>\n",
       "  <th>Time:</th>                 <td>22:32:32</td>     <th>  Log-Likelihood:    </th> <td> -20813.</td> \n",
       "</tr>\n",
       "<tr>\n",
       "  <th>No. Observations:</th>      <td>  2748</td>      <th>  AIC:               </th> <td>4.163e+04</td>\n",
       "</tr>\n",
       "<tr>\n",
       "  <th>Df Residuals:</th>          <td>  2747</td>      <th>  BIC:               </th> <td>4.163e+04</td>\n",
       "</tr>\n",
       "<tr>\n",
       "  <th>Df Model:</th>              <td>     1</td>      <th>                     </th>     <td> </td>    \n",
       "</tr>\n",
       "<tr>\n",
       "  <th>Covariance Type:</th>      <td>nonrobust</td>    <th>                     </th>     <td> </td>    \n",
       "</tr>\n",
       "</table>\n",
       "<table class=\"simpletable\">\n",
       "<tr>\n",
       "        <td></td>          <th>coef</th>     <th>std err</th>      <th>t</th>      <th>P>|t|</th>  <th>[0.025</th>    <th>0.975]</th>  \n",
       "</tr>\n",
       "<tr>\n",
       "  <th>retail_price</th> <td>    0.9045</td> <td>    0.000</td> <td> 2884.248</td> <td> 0.000</td> <td>    0.904</td> <td>    0.905</td>\n",
       "</tr>\n",
       "</table>\n",
       "<table class=\"simpletable\">\n",
       "<tr>\n",
       "  <th>Omnibus:</th>       <td>2581.893</td> <th>  Durbin-Watson:     </th>  <td>   0.754</td> \n",
       "</tr>\n",
       "<tr>\n",
       "  <th>Prob(Omnibus):</th>  <td> 0.000</td>  <th>  Jarque-Bera (JB):  </th> <td>211573.946</td>\n",
       "</tr>\n",
       "<tr>\n",
       "  <th>Skew:</th>           <td>-4.211</td>  <th>  Prob(JB):          </th>  <td>    0.00</td> \n",
       "</tr>\n",
       "<tr>\n",
       "  <th>Kurtosis:</th>       <td>45.153</td>  <th>  Cond. No.          </th>  <td>    1.00</td> \n",
       "</tr>\n",
       "</table><br/><br/>Warnings:<br/>[1] Standard Errors assume that the covariance matrix of the errors is correctly specified."
      ],
      "text/plain": [
       "<class 'statsmodels.iolib.summary.Summary'>\n",
       "\"\"\"\n",
       "                            OLS Regression Results                            \n",
       "==============================================================================\n",
       "Dep. Variable:                  price   R-squared:                       1.000\n",
       "Model:                            OLS   Adj. R-squared:                  1.000\n",
       "Method:                 Least Squares   F-statistic:                 8.319e+06\n",
       "Date:                Sat, 04 Aug 2018   Prob (F-statistic):               0.00\n",
       "Time:                        22:32:32   Log-Likelihood:                -20813.\n",
       "No. Observations:                2748   AIC:                         4.163e+04\n",
       "Df Residuals:                    2747   BIC:                         4.163e+04\n",
       "Df Model:                           1                                         \n",
       "Covariance Type:            nonrobust                                         \n",
       "================================================================================\n",
       "                   coef    std err          t      P>|t|      [0.025      0.975]\n",
       "--------------------------------------------------------------------------------\n",
       "retail_price     0.9045      0.000   2884.248      0.000       0.904       0.905\n",
       "==============================================================================\n",
       "Omnibus:                     2581.893   Durbin-Watson:                   0.754\n",
       "Prob(Omnibus):                  0.000   Jarque-Bera (JB):           211573.946\n",
       "Skew:                          -4.211   Prob(JB):                         0.00\n",
       "Kurtosis:                      45.153   Cond. No.                         1.00\n",
       "==============================================================================\n",
       "\n",
       "Warnings:\n",
       "[1] Standard Errors assume that the covariance matrix of the errors is correctly specified.\n",
       "\"\"\""
      ]
     },
     "execution_count": 605,
     "metadata": {},
     "output_type": "execute_result"
    }
   ],
   "source": [
    "import statsmodels.api as sm\n",
    "\n",
    "X = merged.retail_price\n",
    "y = merged.price\n",
    "\n",
    "# Note the difference in argument order\n",
    "model = sm.OLS(y, X).fit()\n",
    "predictions = model.predict(X) # make the predictions by the model\n",
    "\n",
    "# Print out the statistics\n",
    "model.summary()"
   ]
  },
  {
   "cell_type": "code",
   "execution_count": 591,
   "metadata": {},
   "outputs": [
    {
     "data": {
      "text/plain": [
       "<matplotlib.axes._subplots.AxesSubplot at 0x1739bb95748>"
      ]
     },
     "execution_count": 591,
     "metadata": {},
     "output_type": "execute_result"
    },
    {
     "data": {
      "image/png": "[encoded data removed]",
      "text/plain": [
       "<Figure size 576x576 with 1 Axes>"
      ]
     },
     "metadata": {},
     "output_type": "display_data"
    }
   ],
   "source": [
    "sns.boxplot(data=merged,showmeans=True)"
   ]
  },
  {
   "cell_type": "code",
   "execution_count": 592,
   "metadata": {},
   "outputs": [
    {
     "data": {
      "text/plain": [
       "(0, 150000)"
      ]
     },
     "execution_count": 592,
     "metadata": {},
     "output_type": "execute_result"
    },
    {
     "data": {
      "image/png": "[encoded data removed]",
      "text/plain": [
       "<Figure size 576x576 with 1 Axes>"
      ]
     },
     "metadata": {},
     "output_type": "display_data"
    }
   ],
   "source": [
    "sns.boxplot(data=merged,showmeans=True)\n",
    "plt.ylim(0, 150000)"
   ]
  },
  {
   "cell_type": "code",
   "execution_count": 355,
   "metadata": {},
   "outputs": [],
   "source": [
    "merged['discount']=merged['price']/merged['retail_price'] #create discount percentage"
   ]
  },
  {
   "cell_type": "code",
   "execution_count": 362,
   "metadata": {},
   "outputs": [
    {
     "data": {
      "text/html": [
       "<div>\n",
       "<style scoped>\n",
       "    .dataframe tbody tr th:only-of-type {\n",
       "        vertical-align: middle;\n",
       "    }\n",
       "\n",
       "    .dataframe tbody tr th {\n",
       "        vertical-align: top;\n",
       "    }\n",
       "\n",
       "    .dataframe thead th {\n",
       "        text-align: right;\n",
       "    }\n",
       "</style>\n",
       "<table border=\"1\" class=\"dataframe\">\n",
       "  <thead>\n",
       "    <tr style=\"text-align: right;\">\n",
       "      <th></th>\n",
       "      <th>availability</th>\n",
       "      <th>condition</th>\n",
       "      <th>image</th>\n",
       "      <th>item_number</th>\n",
       "      <th>price</th>\n",
       "      <th>product</th>\n",
       "      <th>retail_price</th>\n",
       "      <th>warranty</th>\n",
       "      <th>discount</th>\n",
       "    </tr>\n",
       "  </thead>\n",
       "  <tbody>\n",
       "    <tr>\n",
       "      <th>695</th>\n",
       "      <td>IN STOCK</td>\n",
       "      <td>New - Never Worn</td>\n",
       "      <td>https://sep.yimg.com/ay/movadobaby/rolex-lady-datejust-28-279138rbr-360.jpg</td>\n",
       "      <td>279138RBR-LILRDP</td>\n",
       "      <td>27500.0</td>\n",
       "      <td>Rolex Lady-Datejust 28 Lilac Dial Women's Watch 279138RBR</td>\n",
       "      <td>38000.0</td>\n",
       "      <td>6 Years (Included),Silver: + 3 Years $95 Sale(+75), Gold:Lifetime $295 Sale(+245),Platinum:Lifetime w/Ultrasonic $395 Sale(+295)</td>\n",
       "      <td>0.723684</td>\n",
       "    </tr>\n",
       "    <tr>\n",
       "      <th>722</th>\n",
       "      <td>IN STOCK</td>\n",
       "      <td>New - Never Worn</td>\n",
       "      <td>https://sep.yimg.com/ay/movadobaby/rolex-oyster-perpetual-datejust-116243-1022.jpg</td>\n",
       "      <td>116243-BMOPDJ</td>\n",
       "      <td>16550.0</td>\n",
       "      <td>Rolex Datejust 36 Women's Watch 116243</td>\n",
       "      <td>22550.0</td>\n",
       "      <td>6 Years (Included),Silver: + 3 Years $95 Sale(+75), Gold:Lifetime $295 Sale(+245),Platinum:Lifetime w/Ultrasonic $395 Sale(+295)</td>\n",
       "      <td>0.733925</td>\n",
       "    </tr>\n",
       "    <tr>\n",
       "      <th>713</th>\n",
       "      <td>IN STOCK</td>\n",
       "      <td>New - Never Worn</td>\n",
       "      <td>https://sep.yimg.com/ay/movadobaby/rolex-datejust-36-116201-337.jpg</td>\n",
       "      <td>116201-CHODJ</td>\n",
       "      <td>9995.0</td>\n",
       "      <td>Rolex Datejust 36 116201</td>\n",
       "      <td>13600.0</td>\n",
       "      <td>6 Years (Included),Silver: + 3 Years $95 Sale(+75), Gold:Lifetime $295 Sale(+245),Platinum:Lifetime w/Ultrasonic $395 Sale(+295)</td>\n",
       "      <td>0.734926</td>\n",
       "    </tr>\n",
       "    <tr>\n",
       "      <th>709</th>\n",
       "      <td>IN STOCK</td>\n",
       "      <td>New - Never Worn</td>\n",
       "      <td>https://sep.yimg.com/ay/movadobaby/rolex-oyster-perpetual-datejust-lady-31-178384-1529.jpg</td>\n",
       "      <td>178384-BLKSO</td>\n",
       "      <td>10250.0</td>\n",
       "      <td>Rolex Datejust 31 Women's Black Dial Watch 178384</td>\n",
       "      <td>13900.0</td>\n",
       "      <td>6 Years (Included),Silver: + 3 Years $95 Sale(+75), Gold:Lifetime $295 Sale(+245),Platinum:Lifetime w/Ultrasonic $395 Sale(+295)</td>\n",
       "      <td>0.737410</td>\n",
       "    </tr>\n",
       "  </tbody>\n",
       "</table>\n",
       "</div>"
      ],
      "text/plain": [
       "    availability         condition  \\\n",
       "695  IN STOCK     New - Never Worn   \n",
       "722  IN STOCK     New - Never Worn   \n",
       "713  IN STOCK     New - Never Worn   \n",
       "709  IN STOCK     New - Never Worn   \n",
       "\n",
       "                                                                                          image  \\\n",
       "695  https://sep.yimg.com/ay/movadobaby/rolex-lady-datejust-28-279138rbr-360.jpg                  \n",
       "722  https://sep.yimg.com/ay/movadobaby/rolex-oyster-perpetual-datejust-116243-1022.jpg           \n",
       "713  https://sep.yimg.com/ay/movadobaby/rolex-datejust-36-116201-337.jpg                          \n",
       "709  https://sep.yimg.com/ay/movadobaby/rolex-oyster-perpetual-datejust-lady-31-178384-1529.jpg   \n",
       "\n",
       "          item_number    price  \\\n",
       "695  279138RBR-LILRDP  27500.0   \n",
       "722  116243-BMOPDJ     16550.0   \n",
       "713  116201-CHODJ      9995.0    \n",
       "709  178384-BLKSO      10250.0   \n",
       "\n",
       "                                                       product  retail_price  \\\n",
       "695  Rolex Lady-Datejust 28 Lilac Dial Women's Watch 279138RBR  38000.0        \n",
       "722  Rolex Datejust 36 Women's Watch 116243                     22550.0        \n",
       "713  Rolex Datejust 36 116201                                   13600.0        \n",
       "709  Rolex Datejust 31 Women's Black Dial Watch 178384          13900.0        \n",
       "\n",
       "                                                                                                                             warranty  \\\n",
       "695  6 Years (Included),Silver: + 3 Years $95 Sale(+75), Gold:Lifetime $295 Sale(+245),Platinum:Lifetime w/Ultrasonic $395 Sale(+295)   \n",
       "722  6 Years (Included),Silver: + 3 Years $95 Sale(+75), Gold:Lifetime $295 Sale(+245),Platinum:Lifetime w/Ultrasonic $395 Sale(+295)   \n",
       "713  6 Years (Included),Silver: + 3 Years $95 Sale(+75), Gold:Lifetime $295 Sale(+245),Platinum:Lifetime w/Ultrasonic $395 Sale(+295)   \n",
       "709  6 Years (Included),Silver: + 3 Years $95 Sale(+75), Gold:Lifetime $295 Sale(+245),Platinum:Lifetime w/Ultrasonic $395 Sale(+295)   \n",
       "\n",
       "     discount  \n",
       "695  0.723684  \n",
       "722  0.733925  \n",
       "713  0.734926  \n",
       "709  0.737410  "
      ]
     },
     "execution_count": 362,
     "metadata": {},
     "output_type": "execute_result"
    }
   ],
   "source": [
    "merged.sort_values('discount')[:4]"
   ]
  },
  {
   "cell_type": "code",
   "execution_count": 359,
   "metadata": {},
   "outputs": [
    {
     "data": {
      "text/plain": [
       "695    https://sep.yimg.com/ay/movadobaby/rolex-lady-datejust-28-279138rbr-360.jpg               \n",
       "722    https://sep.yimg.com/ay/movadobaby/rolex-oyster-perpetual-datejust-116243-1022.jpg        \n",
       "713    https://sep.yimg.com/ay/movadobaby/rolex-datejust-36-116201-337.jpg                       \n",
       "709    https://sep.yimg.com/ay/movadobaby/rolex-oyster-perpetual-datejust-lady-31-178384-1529.jpg\n",
       "Name: image, dtype: object"
      ]
     },
     "execution_count": 359,
     "metadata": {},
     "output_type": "execute_result"
    }
   ],
   "source": [
    "merged.sort_values('discount')[:4].image"
   ]
  },
  {
   "cell_type": "markdown",
   "metadata": {},
   "source": [
    "### Watch with the most discount (27% off): Rolex Lady-Datejust 28 Lilac Dial Women's Watch \n",
    "<img src=\" https://sep.yimg.com/ay/movadobaby/rolex-lady-datejust-28-279138rbr-360.jpg\" style=\"width: 250px;\">"
   ]
  },
  {
   "cell_type": "markdown",
   "metadata": {},
   "source": [
    "### Watch with the least discount (1% off!!!): Rolex Yacht-Master\n",
    "<img src=\"https://sep.yimg.com/ay/movadobaby/rolex-yacht-master-37-268622-32.jpg\" style=\"width: 250px;\">"
   ]
  },
  {
   "cell_type": "markdown",
   "metadata": {},
   "source": [
    "### Only about 4% of the watches are more than 10% off"
   ]
  },
  {
   "cell_type": "code",
   "execution_count": 374,
   "metadata": {},
   "outputs": [
    {
     "data": {
      "text/html": [
       "<div>\n",
       "<style scoped>\n",
       "    .dataframe tbody tr th:only-of-type {\n",
       "        vertical-align: middle;\n",
       "    }\n",
       "\n",
       "    .dataframe tbody tr th {\n",
       "        vertical-align: top;\n",
       "    }\n",
       "\n",
       "    .dataframe thead th {\n",
       "        text-align: right;\n",
       "    }\n",
       "</style>\n",
       "<table border=\"1\" class=\"dataframe\">\n",
       "  <thead>\n",
       "    <tr style=\"text-align: right;\">\n",
       "      <th></th>\n",
       "      <th>availability</th>\n",
       "      <th>condition</th>\n",
       "      <th>image</th>\n",
       "      <th>item_number</th>\n",
       "      <th>price</th>\n",
       "      <th>product</th>\n",
       "      <th>retail_price</th>\n",
       "      <th>warranty</th>\n",
       "      <th>discount</th>\n",
       "    </tr>\n",
       "  </thead>\n",
       "  <tbody>\n",
       "    <tr>\n",
       "      <th>672</th>\n",
       "      <td>Usually ships within 4 weeks</td>\n",
       "      <td>New - Never Worn</td>\n",
       "      <td>https://sep.yimg.com/ay/movadobaby/rolex-yacht-master-37-268622-32.jpg</td>\n",
       "      <td>268622-RHD</td>\n",
       "      <td>10950.0</td>\n",
       "      <td>Rolex Yacht-Master 37 268622</td>\n",
       "      <td>11050.0</td>\n",
       "      <td>6 Years (Included),Silver: + 3 Years $95 Sale(+75), Gold:Lifetime $295 Sale(+245),Platinum:Lifetime w/Ultrasonic $395 Sale(+295)</td>\n",
       "      <td>0.990950</td>\n",
       "    </tr>\n",
       "    <tr>\n",
       "      <th>2283</th>\n",
       "      <td>Usually ships within 6 months</td>\n",
       "      <td>Store Display Model</td>\n",
       "      <td>https://sep.yimg.com/ay/movadobaby/rolex-oyster-perpetual-lady-datejust-steel-179174-1712.jpg</td>\n",
       "      <td>179174-MOPSPHJ</td>\n",
       "      <td>10550.0</td>\n",
       "      <td>Rolex Lady-Datejust 26 179174</td>\n",
       "      <td>10650.0</td>\n",
       "      <td>6 Years (Included),Silver: + 3 Years $95 Sale(+75),Gold:Lifetime $295 Sale(+245),Platinum:Lifetime w/Ultrasonic $395 Sale(+295)</td>\n",
       "      <td>0.990610</td>\n",
       "    </tr>\n",
       "    <tr>\n",
       "      <th>370</th>\n",
       "      <td>IN STOCK</td>\n",
       "      <td>New - Never Worn</td>\n",
       "      <td>https://sep.yimg.com/ay/movadobaby/rolex-oyster-perpetual-oyster-9.jpg</td>\n",
       "      <td>114300-BLUSO</td>\n",
       "      <td>5675.0</td>\n",
       "      <td>Rolex Oyster Perpetual 39 114300</td>\n",
       "      <td>5750.0</td>\n",
       "      <td>6 Years (Included),Silver: + 3 Years $95 Sale(+50), Gold:Lifetime $295 Best Value(+150),Platinum:Lifetime w/Ultrasonic $395 Sale(+225)</td>\n",
       "      <td>0.986957</td>\n",
       "    </tr>\n",
       "    <tr>\n",
       "      <th>749</th>\n",
       "      <td>Usually ships within 3 months</td>\n",
       "      <td>New - Never Worn</td>\n",
       "      <td>https://sep.yimg.com/ay/movadobaby/rolex-oyster-perpetual-milgauss-116400gv-41.jpg</td>\n",
       "      <td>116400GV-BLUSO</td>\n",
       "      <td>8075.0</td>\n",
       "      <td>Rolex Milgauss 116400GV</td>\n",
       "      <td>8200.0</td>\n",
       "      <td>6 Years (Included),Silver: + 3 Years $95 Sale(+50), Gold:Lifetime $295 Best Value(+150),Platinum:Lifetime w/Ultrasonic $395 Sale(+225)</td>\n",
       "      <td>0.984756</td>\n",
       "    </tr>\n",
       "  </tbody>\n",
       "</table>\n",
       "</div>"
      ],
      "text/plain": [
       "                       availability            condition  \\\n",
       "672   Usually ships within 4 weeks   New - Never Worn      \n",
       "2283  Usually ships within 6 months  Store Display Model   \n",
       "370   IN STOCK                       New - Never Worn      \n",
       "749   Usually ships within 3 months  New - Never Worn      \n",
       "\n",
       "                                                                                              image  \\\n",
       "672   https://sep.yimg.com/ay/movadobaby/rolex-yacht-master-37-268622-32.jpg                          \n",
       "2283  https://sep.yimg.com/ay/movadobaby/rolex-oyster-perpetual-lady-datejust-steel-179174-1712.jpg   \n",
       "370   https://sep.yimg.com/ay/movadobaby/rolex-oyster-perpetual-oyster-9.jpg                          \n",
       "749   https://sep.yimg.com/ay/movadobaby/rolex-oyster-perpetual-milgauss-116400gv-41.jpg              \n",
       "\n",
       "         item_number    price                           product  retail_price  \\\n",
       "672   268622-RHD      10950.0  Rolex Yacht-Master 37 268622      11050.0        \n",
       "2283  179174-MOPSPHJ  10550.0  Rolex Lady-Datejust 26 179174     10650.0        \n",
       "370   114300-BLUSO    5675.0   Rolex Oyster Perpetual 39 114300  5750.0         \n",
       "749   116400GV-BLUSO  8075.0   Rolex Milgauss 116400GV           8200.0         \n",
       "\n",
       "                                                                                                                                    warranty  \\\n",
       "672   6 Years (Included),Silver: + 3 Years $95 Sale(+75), Gold:Lifetime $295 Sale(+245),Platinum:Lifetime w/Ultrasonic $395 Sale(+295)         \n",
       "2283  6 Years (Included),Silver: + 3 Years $95 Sale(+75),Gold:Lifetime $295 Sale(+245),Platinum:Lifetime w/Ultrasonic $395 Sale(+295)          \n",
       "370   6 Years (Included),Silver: + 3 Years $95 Sale(+50), Gold:Lifetime $295 Best Value(+150),Platinum:Lifetime w/Ultrasonic $395 Sale(+225)   \n",
       "749   6 Years (Included),Silver: + 3 Years $95 Sale(+50), Gold:Lifetime $295 Best Value(+150),Platinum:Lifetime w/Ultrasonic $395 Sale(+225)   \n",
       "\n",
       "      discount  \n",
       "672   0.990950  \n",
       "2283  0.990610  \n",
       "370   0.986957  \n",
       "749   0.984756  "
      ]
     },
     "execution_count": 374,
     "metadata": {},
     "output_type": "execute_result"
    }
   ],
   "source": [
    "merged.sort_values('discount',ascending=False)[:4]"
   ]
  },
  {
   "cell_type": "code",
   "execution_count": 371,
   "metadata": {},
   "outputs": [
    {
     "data": {
      "text/plain": [
       "0.03966521106259097"
      ]
     },
     "execution_count": 371,
     "metadata": {},
     "output_type": "execute_result"
    }
   ],
   "source": [
    "sum(merged.sort_values('discount').discount<0.9)/merged.shape[0]"
   ]
  },
  {
   "cell_type": "markdown",
   "metadata": {},
   "source": [
    "### My/Internet theory on the meaning of availability of a particular watch:\n",
    "- In-stock means least demanding (AD/manufacturer dumped the watch to AW.com)\n",
    "- The longer the wait the better the sale of the watch for AD/manufacturer"
   ]
  },
  {
   "cell_type": "code",
   "execution_count": 381,
   "metadata": {},
   "outputs": [
    {
     "data": {
      "text/plain": [
       "Usually ships within 4 weeks       2393\n",
       "Usually ships within 3 months      178 \n",
       "IN STOCK                           92  \n",
       "Usually ships within 8 weeks       59  \n",
       "Usually ships within 2-4 weeks     10  \n",
       "Usually ships within 6 months      7   \n",
       "Usually ships within 4 weeks       5   \n",
       "Usually ships within 1-2 months    2   \n",
       "Usually ship within 4 weeks        1   \n",
       "Usually ships within 1-2 weeks     1   \n",
       "Name: availability, dtype: int64"
      ]
     },
     "execution_count": 381,
     "metadata": {},
     "output_type": "execute_result"
    }
   ],
   "source": [
    "merged.availability.value_counts()"
   ]
  },
  {
   "cell_type": "code",
   "execution_count": 490,
   "metadata": {},
   "outputs": [
    {
     "data": {
      "text/plain": [
       "0"
      ]
     },
     "execution_count": 490,
     "metadata": {},
     "output_type": "execute_result"
    }
   ],
   "source": [
    "sum(merged.availability==\"Usually ships within 4 weeks\")"
   ]
  },
  {
   "cell_type": "code",
   "execution_count": 491,
   "metadata": {},
   "outputs": [
    {
     "data": {
      "text/plain": [
       " 4 weeks       2394\n",
       " 3 months      178 \n",
       "IN STOCK       92  \n",
       " 8 weeks       59  \n",
       " 2-4 weeks     10  \n",
       " 6 months      7   \n",
       " 4 weeks       5   \n",
       " 1-2 months    2   \n",
       " 1-2 weeks     1   \n",
       "Name: availability, dtype: int64"
      ]
     },
     "execution_count": 491,
     "metadata": {},
     "output_type": "execute_result"
    }
   ],
   "source": [
    "merged.availability=merged.availability.map(lambda x: re.sub(' ship ',\" ships \",x)) #use regex to change \"ship\" into \"ships\" so they match\n",
    "#re.findall('ship',merged.availability)\n",
    "merged.availability.value_counts()"
   ]
  },
  {
   "cell_type": "code",
   "execution_count": 593,
   "metadata": {},
   "outputs": [
    {
     "data": {
      "text/plain": [
       " 4 weeks       2399\n",
       " 3 months      178 \n",
       "IN STOCK       92  \n",
       " 8 weeks       59  \n",
       " 2-4 weeks     10  \n",
       " 6 months      7   \n",
       " 1-2 months    2   \n",
       " 1-2 weeks     1   \n",
       "Name: availability, dtype: int64"
      ]
     },
     "execution_count": 593,
     "metadata": {},
     "output_type": "execute_result"
    }
   ],
   "source": [
    "merged.availability=merged.availability.map(lambda x: re.sub('Usually ships within',\"\",x)) #use regex to change \"ship\" into \"ships\" so they match\n",
    "merged.availability=merged.availability.map(lambda x: re.sub(' 4 weeks ',\" 4 weeks\",x))\n",
    "#re.findall('ship',merged.availability)\n",
    "merged.availability.value_counts()"
   ]
  },
  {
   "cell_type": "code",
   "execution_count": 594,
   "metadata": {
    "scrolled": false
   },
   "outputs": [
    {
     "data": {
      "text/plain": [
       " 4 weeks       2399\n",
       " 3 months      178 \n",
       "IN STOCK       92  \n",
       " 8 weeks       59  \n",
       " 2-4 weeks     10  \n",
       " 6 months      7   \n",
       " 1-2 months    2   \n",
       " 1-2 weeks     1   \n",
       "Name: availability, dtype: int64"
      ]
     },
     "execution_count": 594,
     "metadata": {},
     "output_type": "execute_result"
    }
   ],
   "source": [
    "merged.availability.value_counts()"
   ]
  },
  {
   "cell_type": "code",
   "execution_count": 595,
   "metadata": {},
   "outputs": [
    {
     "data": {
      "text/plain": [
       "(2748, 9)"
      ]
     },
     "execution_count": 595,
     "metadata": {},
     "output_type": "execute_result"
    }
   ],
   "source": [
    "merged.shape"
   ]
  },
  {
   "cell_type": "code",
   "execution_count": 596,
   "metadata": {},
   "outputs": [
    {
     "data": {
      "text/plain": [
       "(2728, 9)"
      ]
     },
     "execution_count": 596,
     "metadata": {},
     "output_type": "execute_result"
    }
   ],
   "source": [
    "#remove small obervation for boxplot and analysis\n",
    "\n",
    "boxdata=merged[(merged.availability!=\" 1-2 weeks\")]\n",
    "boxdata=boxdata[boxdata.availability!=\" 1-2 months\"]\n",
    "boxdata=boxdata[boxdata.availability!=\" 6 months\"]\n",
    "boxdata=boxdata[boxdata.availability!=\" 2-4 weeks\"]\n",
    "boxdata.shape"
   ]
  },
  {
   "cell_type": "code",
   "execution_count": 597,
   "metadata": {},
   "outputs": [],
   "source": [
    "#remove one outlier\n",
    "#boxdata=boxdata[boxdata.price!=boxdata.price.max()]"
   ]
  },
  {
   "cell_type": "markdown",
   "metadata": {},
   "source": [
    "###  In-stock watches have larger discount than watches with longer waiting period\n",
    "- supports our theory that in-stock watches are less valuable\n",
    "- 3 months has less variation, imply weak negatiation position from AW\n",
    "- 4 weeks vs 3 months mean seem to be on the same level"
   ]
  },
  {
   "cell_type": "code",
   "execution_count": 598,
   "metadata": {
    "scrolled": false
   },
   "outputs": [
    {
     "data": {
      "image/png": "[encoded data removed]",
      "text/plain": [
       "<Figure size 576x576 with 1 Axes>"
      ]
     },
     "metadata": {},
     "output_type": "display_data"
    }
   ],
   "source": [
    "sns.boxplot(x=\"availability\",y=\"discount\",data=boxdata,showmeans=True)\n",
    "plt.rcParams[\"figure.figsize\"]=8,8"
   ]
  },
  {
   "cell_type": "code",
   "execution_count": 581,
   "metadata": {},
   "outputs": [
    {
     "name": "stdout",
     "output_type": "stream",
     "text": [
      "                sum_sq      df           F  PR(>F)\n",
      "availability  1.135090  3.0     721.894932  0.0   \n",
      "Residual      1.427193  2723.0 NaN         NaN    \n"
     ]
    }
   ],
   "source": [
    "#anova\n",
    "import statsmodels.api as sm\n",
    "from statsmodels.formula.api import ols\n",
    "\n",
    " \n",
    "mod = ols('discount ~ availability',\n",
    "                data=boxdata).fit()\n",
    "                \n",
    "aov_table = sm.stats.anova_lm(mod, typ=2)\n",
    "print (aov_table)"
   ]
  },
  {
   "cell_type": "code",
   "execution_count": 582,
   "metadata": {},
   "outputs": [
    {
     "name": "stdout",
     "output_type": "stream",
     "text": [
      "Multiple Comparison of Means - Tukey HSD,FWER=0.05\n",
      "==================================================\n",
      "  group1   group2  meandiff  lower   upper  reject\n",
      "--------------------------------------------------\n",
      " 3 months  4 weeks -0.0042  -0.0087  0.0004 False \n",
      " 3 months  8 weeks  0.0183   0.0094  0.0271  True \n",
      " 3 months IN STOCK -0.1148  -0.1224 -0.1073  True \n",
      "  4 weeks  8 weeks  0.0224   0.0147  0.0302  True \n",
      "  4 weeks IN STOCK -0.1107  -0.1169 -0.1044  True \n",
      "  8 weeks IN STOCK -0.1331  -0.1429 -0.1233  True \n",
      "--------------------------------------------------\n",
      "[' 3 months' ' 4 weeks' ' 8 weeks' 'IN STOCK']\n"
     ]
    }
   ],
   "source": [
    "#tukey-test\n",
    "from statsmodels.stats.multicomp import pairwise_tukeyhsd\n",
    "from statsmodels.stats.multicomp import MultiComparison\n",
    "\n",
    "mc = MultiComparison(boxdata['discount'], boxdata['availability'])\n",
    "result = mc.tukeyhsd()\n",
    " \n",
    "print(result)\n",
    "print(mc.groupsunique)"
   ]
  },
  {
   "cell_type": "markdown",
   "metadata": {},
   "source": [
    "### Tukey test: only 3 months vs 4 weeks discount are not significant"
   ]
  },
  {
   "cell_type": "code",
   "execution_count": 589,
   "metadata": {
    "scrolled": true
   },
   "outputs": [
    {
     "data": {
      "image/png": "[encoded data removed]",
      "text/plain": [
       "<Figure size 576x576 with 1 Axes>"
      ]
     },
     "metadata": {},
     "output_type": "display_data"
    }
   ],
   "source": [
    "sns.boxplot(x=\"availability\",y=\"discount\",data=boxdata,showmeans=True)\n",
    "plt.rcParams[\"figure.figsize\"]=8,8"
   ]
  },
  {
   "cell_type": "markdown",
   "metadata": {},
   "source": [
    "### In-stock watches are also significantly cheaper!\n",
    "\n",
    "- The longer the wait the more expensive is the watch in general\n",
    "- 3 months have more expensive watches when looking at the gap between mean and median\n",
    "- 4 weeks and 8 weeks mean prices are on the same level"
   ]
  },
  {
   "cell_type": "code",
   "execution_count": 603,
   "metadata": {
    "scrolled": false
   },
   "outputs": [
    {
     "data": {
      "text/plain": [
       "(0, 130000)"
      ]
     },
     "execution_count": 603,
     "metadata": {},
     "output_type": "execute_result"
    },
    {
     "data": {
      "image/png": "[encoded data removed]",
      "text/plain": [
       "<Figure size 576x576 with 1 Axes>"
      ]
     },
     "metadata": {},
     "output_type": "display_data"
    }
   ],
   "source": [
    "sns.boxplot(x=\"availability\",y=\"price\",data=boxdata,showmeans=True)\n",
    "plt.rcParams[\"figure.figsize\"]=8,8\n",
    "plt.ylim(0, 130000) #hide the outlier watch"
   ]
  },
  {
   "cell_type": "code",
   "execution_count": 602,
   "metadata": {
    "scrolled": true
   },
   "outputs": [
    {
     "name": "stdout",
     "output_type": "stream",
     "text": [
      "      Multiple Comparison of Means - Tukey HSD,FWER=0.05     \n",
      "=============================================================\n",
      "  group1   group2    meandiff     lower       upper    reject\n",
      "-------------------------------------------------------------\n",
      " 3 months  4 weeks  -6611.7409  -9786.3966  -3437.0852  True \n",
      " 3 months  8 weeks  -8173.1432  -14312.215  -2034.0714  True \n",
      " 3 months IN STOCK -16857.0213 -22104.4013 -11609.6412  True \n",
      "  4 weeks  8 weeks  -1561.4023  -6946.7576  3823.9529  False \n",
      "  4 weeks IN STOCK -10245.2804 -14586.8061  -5903.7547  True \n",
      "  8 weeks IN STOCK  -8683.878  -15499.9333  -1867.8228  True \n",
      "-------------------------------------------------------------\n",
      "[' 3 months' ' 4 weeks' ' 8 weeks' 'IN STOCK']\n"
     ]
    }
   ],
   "source": [
    "#tukey-test\n",
    "from statsmodels.stats.multicomp import pairwise_tukeyhsd\n",
    "from statsmodels.stats.multicomp import MultiComparison\n",
    "\n",
    "mc = MultiComparison(boxdata['price'], boxdata['availability'])\n",
    "result = mc.tukeyhsd()\n",
    " \n",
    "print(result)\n",
    "print(mc.groupsunique)"
   ]
  },
  {
   "cell_type": "markdown",
   "metadata": {},
   "source": [
    "### Lost profit margin: Rolex loses at least  $1,500 for every watch being sold online"
   ]
  },
  {
   "cell_type": "code",
   "execution_count": 618,
   "metadata": {},
   "outputs": [
    {
     "data": {
      "text/plain": [
       "1571.1743539827735"
      ]
     },
     "execution_count": 618,
     "metadata": {},
     "output_type": "execute_result"
    }
   ],
   "source": [
    "#assume most of the profits being sold are within 2 standard deviation of the retail price\n",
    "#watches expensive than that are probably being bought in-store\n",
    "lpm=merged[merged.retail_price.map(lambda x: np.abs(x - merged.retail_price.mean()) / merged.retail_price.std() < 2)]\n",
    "(1-lpm.discount.mean())* lpm.retail_price.mean()"
   ]
  },
  {
   "cell_type": "markdown",
   "metadata": {},
   "source": [
    "## Conclusion\n",
    "\n",
    "- Branding: Rolex upholds its branding as a luxury watch rather well \n",
    "- Distribution: consumers have reason to shop at boutique store or AD than to shop online\n",
    "- Margin: Rolex loses very litte profit margin\n"
   ]
  },
  {
   "cell_type": "code",
   "execution_count": null,
   "metadata": {},
   "outputs": [],
   "source": []
  }
 ],
 "metadata": {
  "kernelspec": {
   "display_name": "Python 3",
   "language": "python",
   "name": "python3"
  }
 },
 "nbformat": 4,
 "nbformat_minor": 2
}
